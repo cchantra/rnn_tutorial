{
 "cells": [
  {
   "cell_type": "code",
   "execution_count": 1,
   "metadata": {},
   "outputs": [],
   "source": [
    "### Classify using complaint using doc2vec"
   ]
  },
  {
   "cell_type": "markdown",
   "metadata": {},
   "source": [
    "https://towardsdatascience.com/multi-class-text-classification-with-doc2vec-logistic-regression-9da9947b43f4"
   ]
  },
  {
   "cell_type": "markdown",
   "metadata": {},
   "source": [
    "data set is at  https://catalog.data.gov/dataset/consumer-complaint-database"
   ]
  },
  {
   "cell_type": "code",
   "execution_count": 2,
   "metadata": {},
   "outputs": [],
   "source": [
    "import pandas as pd\n",
    "import numpy as np\n",
    "from tqdm import tqdm\n",
    "tqdm.pandas(desc=\"progress-bar\")\n",
    "from gensim.models import Doc2Vec\n",
    "from sklearn import utils\n",
    "from sklearn.model_selection import train_test_split\n",
    "import gensim\n",
    "from sklearn.linear_model import LogisticRegression\n",
    "from gensim.models.doc2vec import TaggedDocument\n",
    "import re\n",
    "import seaborn as sns\n",
    "import matplotlib.pyplot as plt"
   ]
  },
  {
   "cell_type": "code",
   "execution_count": 3,
   "metadata": {},
   "outputs": [
    {
     "data": {
      "text/html": [
       "<div>\n",
       "<style scoped>\n",
       "    .dataframe tbody tr th:only-of-type {\n",
       "        vertical-align: middle;\n",
       "    }\n",
       "\n",
       "    .dataframe tbody tr th {\n",
       "        vertical-align: top;\n",
       "    }\n",
       "\n",
       "    .dataframe thead th {\n",
       "        text-align: right;\n",
       "    }\n",
       "</style>\n",
       "<table border=\"1\" class=\"dataframe\">\n",
       "  <thead>\n",
       "    <tr style=\"text-align: right;\">\n",
       "      <th></th>\n",
       "      <th>narrative</th>\n",
       "      <th>Product</th>\n",
       "    </tr>\n",
       "  </thead>\n",
       "  <tbody>\n",
       "    <tr>\n",
       "      <th>457</th>\n",
       "      <td>I changed adress and was never sent any notice...</td>\n",
       "      <td>Debt collection</td>\n",
       "    </tr>\n",
       "    <tr>\n",
       "      <th>477</th>\n",
       "      <td>XXXX XXXX is reporting a account on all three ...</td>\n",
       "      <td>Debt collection</td>\n",
       "    </tr>\n",
       "    <tr>\n",
       "      <th>501</th>\n",
       "      <td>XXXX XXXX/XXXX  XXXX is listed on my Experian ...</td>\n",
       "      <td>Credit reporting, credit repair services, or o...</td>\n",
       "    </tr>\n",
       "    <tr>\n",
       "      <th>507</th>\n",
       "      <td>XXXX XXXX XXXX listed multiple 30/60/90/120/15...</td>\n",
       "      <td>Credit reporting, credit repair services, or o...</td>\n",
       "    </tr>\n",
       "    <tr>\n",
       "      <th>517</th>\n",
       "      <td>I pulled all 3 of my credit reports to find ou...</td>\n",
       "      <td>Credit reporting, credit repair services, or o...</td>\n",
       "    </tr>\n",
       "    <tr>\n",
       "      <th>527</th>\n",
       "      <td>To Whom It May Concern This is the third time ...</td>\n",
       "      <td>Credit reporting, credit repair services, or o...</td>\n",
       "    </tr>\n",
       "    <tr>\n",
       "      <th>528</th>\n",
       "      <td>XXXX listed multiple 30/60/90/120 day late pay...</td>\n",
       "      <td>Credit reporting, credit repair services, or o...</td>\n",
       "    </tr>\n",
       "    <tr>\n",
       "      <th>543</th>\n",
       "      <td>sent ftc violations and police report of havin...</td>\n",
       "      <td>Credit reporting, credit repair services, or o...</td>\n",
       "    </tr>\n",
       "    <tr>\n",
       "      <th>549</th>\n",
       "      <td>Credit bureaus are reporting these addresses o...</td>\n",
       "      <td>Credit reporting, credit repair services, or o...</td>\n",
       "    </tr>\n",
       "    <tr>\n",
       "      <th>558</th>\n",
       "      <td>Divorce decree assigned two accounts to my exw...</td>\n",
       "      <td>Credit reporting, credit repair services, or o...</td>\n",
       "    </tr>\n",
       "  </tbody>\n",
       "</table>\n",
       "</div>"
      ],
      "text/plain": [
       "                                             narrative  \\\n",
       "457  I changed adress and was never sent any notice...   \n",
       "477  XXXX XXXX is reporting a account on all three ...   \n",
       "501  XXXX XXXX/XXXX  XXXX is listed on my Experian ...   \n",
       "507  XXXX XXXX XXXX listed multiple 30/60/90/120/15...   \n",
       "517  I pulled all 3 of my credit reports to find ou...   \n",
       "527  To Whom It May Concern This is the third time ...   \n",
       "528  XXXX listed multiple 30/60/90/120 day late pay...   \n",
       "543  sent ftc violations and police report of havin...   \n",
       "549  Credit bureaus are reporting these addresses o...   \n",
       "558  Divorce decree assigned two accounts to my exw...   \n",
       "\n",
       "                                               Product  \n",
       "457                                    Debt collection  \n",
       "477                                    Debt collection  \n",
       "501  Credit reporting, credit repair services, or o...  \n",
       "507  Credit reporting, credit repair services, or o...  \n",
       "517  Credit reporting, credit repair services, or o...  \n",
       "527  Credit reporting, credit repair services, or o...  \n",
       "528  Credit reporting, credit repair services, or o...  \n",
       "543  Credit reporting, credit repair services, or o...  \n",
       "549  Credit reporting, credit repair services, or o...  \n",
       "558  Credit reporting, credit repair services, or o...  "
      ]
     },
     "execution_count": 3,
     "metadata": {},
     "output_type": "execute_result"
    }
   ],
   "source": [
    "df = pd.read_csv('Consumer_Complaints.csv')\n",
    "df = df[['Consumer complaint narrative','Product']]\n",
    "df = df[pd.notnull(df['Consumer complaint narrative'])]\n",
    "df.rename(columns = {'Consumer complaint narrative':'narrative'}, inplace = True)\n",
    "df.head(10)"
   ]
  },
  {
   "cell_type": "code",
   "execution_count": 4,
   "metadata": {},
   "outputs": [
    {
     "data": {
      "text/plain": [
       "(58874, 2)"
      ]
     },
     "execution_count": 4,
     "metadata": {},
     "output_type": "execute_result"
    }
   ],
   "source": [
    "df.shape"
   ]
  },
  {
   "cell_type": "code",
   "execution_count": 6,
   "metadata": {},
   "outputs": [],
   "source": [
    "#df.index = range(318718)\n",
    "df.index = range(58874)"
   ]
  },
  {
   "cell_type": "code",
   "execution_count": 7,
   "metadata": {},
   "outputs": [
    {
     "data": {
      "text/plain": [
       "11714107"
      ]
     },
     "execution_count": 7,
     "metadata": {},
     "output_type": "execute_result"
    }
   ],
   "source": [
    "df['narrative'].apply(lambda x: len(x.split(' '))).sum()"
   ]
  },
  {
   "cell_type": "markdown",
   "metadata": {},
   "source": [
    "We have over 63 million words, it is not a small data set."
   ]
  },
  {
   "cell_type": "code",
   "execution_count": 8,
   "metadata": {},
   "outputs": [
    {
     "data": {
      "image/png": "[encoded data removed]",
      "text/plain": [
       "<matplotlib.figure.Figure at 0x1162fbf90>"
      ]
     },
     "metadata": {},
     "output_type": "display_data"
    }
   ],
   "source": [
    "cnt_pro = df['Product'].value_counts()\n",
    "\n",
    "plt.figure(figsize=(12,4))\n",
    "sns.barplot(cnt_pro.index, cnt_pro.values, alpha=0.8)\n",
    "plt.ylabel('Number of Occurrences', fontsize=12)\n",
    "plt.xlabel('Product', fontsize=12)\n",
    "plt.xticks(rotation=90)\n",
    "plt.show();"
   ]
  },
  {
   "cell_type": "markdown",
   "metadata": {},
   "source": [
    "The classes are imbalanced. However, a naive classifier that predicts everything to be Debt collection will only achieve over 20% accuracy."
   ]
  },
  {
   "cell_type": "markdown",
   "metadata": {},
   "source": [
    "Let's have a look a few examples of complaint narrative and its associated product."
   ]
  },
  {
   "cell_type": "code",
   "execution_count": 9,
   "metadata": {},
   "outputs": [],
   "source": [
    "def print_complaint(index):\n",
    "    example = df[df.index == index][['narrative', 'Product']].values[0]\n",
    "    if len(example) > 0:\n",
    "        print(example[0])\n",
    "        print('Product:', example[1])"
   ]
  },
  {
   "cell_type": "code",
   "execution_count": 10,
   "metadata": {},
   "outputs": [
    {
     "name": "stdout",
     "output_type": "stream",
     "text": [
      "XXXX XXXX XXXX # XXXX -each bureau reports a different date of last activity Date XXXX  ShowsXX/XX/XXXX Experian Shows XX/XX/XXXX XXXX  Shows XX/XX/XXXX Experian, XXXX, XXXX is showing a monthly payment as well as a past due on closed account of {$1000.00} how is this possible? ( THIS ACCOUNT NEEDS TO BE DELETED PLEASE ) This is how I know that it wasn't a proper investigation. FCRA is very clear about the law.\n",
      "('Product:', 'Credit reporting, credit repair services, or other personal consumer reports')\n"
     ]
    }
   ],
   "source": [
    "print_complaint(12)"
   ]
  },
  {
   "cell_type": "code",
   "execution_count": 11,
   "metadata": {},
   "outputs": [
    {
     "name": "stdout",
     "output_type": "stream",
     "text": [
      "I would like to submit a complaint regarding the unfair and abusive fees assessed to make a payment on the debt owed. The company is charging a {$5.00} fee to make a payment via debit or credit card. This fee is also assessed if making the payment for a medical debt via a health savings account. The fee is unreasonable as it does not reflect the cost to process a single credit card transaction, is not a fee associated with making the payment over the phone or for an expedited payment, and it is much higher than other merchants charge. I was only provided with an alternative to avoid the fee after I questioned why it would cost {$5.00} to pay my debt. After I refused to pay via credit card and accept the fee, the representative indicated that I could also pay by check to avoid the fee. I could still make the payment by phone but needed to provide full bank account details. Additionally, I would like to note when I was first contacted by the debt collector I was pressured to make a payment even though I stated multiple times that I did not know what the debt was and would like a debt validation letter.\n",
      "('Product:', 'Debt collection')\n"
     ]
    }
   ],
   "source": [
    "print_complaint(20)"
   ]
  },
  {
   "cell_type": "markdown",
   "metadata": {},
   "source": [
    "### Text preprocessing\n",
    "\n",
    "Below we define a function to convert text to lower-case and strip punctuation/symbols from words and so on."
   ]
  },
  {
   "cell_type": "code",
   "execution_count": 12,
   "metadata": {},
   "outputs": [],
   "source": [
    "from bs4 import BeautifulSoup\n",
    "def cleanText(text):\n",
    "    text = BeautifulSoup(text, \"lxml\").text\n",
    "    text = re.sub(r'\\|\\|\\|', r' ', text) \n",
    "    text = re.sub(r'http\\S+', r'<URL>', text)\n",
    "    text = text.lower()\n",
    "    text = text.replace('x', '')\n",
    "    return text\n",
    "df['narrative'] = df['narrative'].apply(cleanText)"
   ]
  },
  {
   "cell_type": "code",
   "execution_count": 13,
   "metadata": {},
   "outputs": [
    {
     "data": {
      "text/plain": [
       "u'i would like to submit a complaint regarding the unfair and abusive fees assessed to make a payment on the debt owed. the company is charging a {$5.00} fee to make a payment via debit or credit card. this fee is also assessed if making the payment for a medical debt via a health savings account. the fee is unreasonable as it does not reflect the cost to process a single credit card transaction, is not a fee associated with making the payment over the phone or for an epedited payment, and it is much higher than other merchants charge. i was only provided with an alternative to avoid the fee after i questioned why it would cost {$5.00} to pay my debt. after i refused to pay via credit card and accept the fee, the representative indicated that i could also pay by check to avoid the fee. i could still make the payment by phone but needed to provide full bank account details. additionally, i would like to note when i was first contacted by the debt collector i was pressured to make a payment even though i stated multiple times that i did not know what the debt was and would like a debt validation letter.'"
      ]
     },
     "execution_count": 13,
     "metadata": {},
     "output_type": "execute_result"
    }
   ],
   "source": [
    "df['narrative'][20]"
   ]
  },
  {
   "cell_type": "markdown",
   "metadata": {},
   "source": [
    "Train/test split of 70/30."
   ]
  },
  {
   "cell_type": "code",
   "execution_count": 14,
   "metadata": {},
   "outputs": [],
   "source": [
    "train, test = train_test_split(df, test_size=0.3, random_state=42)"
   ]
  },
  {
   "cell_type": "code",
   "execution_count": 15,
   "metadata": {},
   "outputs": [],
   "source": [
    "import nltk\n",
    "from nltk.corpus import stopwords\n",
    "def tokenize_text(text):\n",
    "    tokens = []\n",
    "    for sent in nltk.sent_tokenize(text):\n",
    "        for word in nltk.word_tokenize(sent):\n",
    "            if len(word) < 2:\n",
    "                continue\n",
    "            tokens.append(word.lower())\n",
    "    return tokens"
   ]
  },
  {
   "cell_type": "code",
   "execution_count": 16,
   "metadata": {},
   "outputs": [],
   "source": [
    "train_tagged = train.apply(\n",
    "    lambda r: TaggedDocument(words=tokenize_text(r['narrative']), tags=[r.Product]), axis=1)\n",
    "test_tagged = test.apply(\n",
    "    lambda r: TaggedDocument(words=tokenize_text(r['narrative']), tags=[r.Product]), axis=1)"
   ]
  },
  {
   "cell_type": "markdown",
   "metadata": {},
   "source": [
    "This is what a training entry looks like - an example complaint narrative tagged by 'Credit reporting'."
   ]
  },
  {
   "cell_type": "code",
   "execution_count": 17,
   "metadata": {},
   "outputs": [
    {
     "data": {
      "text/plain": [
       "TaggedDocument(words=[u'referencing', u'the', u'attachment', u'on', u'pages', u'5,6,7', u'under', u'microscope', u'rushmore', u'unidentified', u'representatives', u'states', u'in', u'fact', u'that', u'eecuted', u'and', u'authorized', u'rushmore', u'as', u'power', u'of', u'attorney', u'as', u'its', u'servicer', u'attorney-in-fact', u'on', u'//2016'], tags=['Mortgage'])"
      ]
     },
     "execution_count": 17,
     "metadata": {},
     "output_type": "execute_result"
    }
   ],
   "source": [
    "train_tagged.values[30]"
   ]
  },
  {
   "cell_type": "markdown",
   "metadata": {},
   "source": [
    "## Training the model\n",
    "\n",
    "We'll instantiate a Doc2Vec model-Distributed Bag of Words (DBOW). In the Word2Vec architecture, the two algorithm names are “continuous bag of words” (cbow) and “skip-gram” (sg); in the Doc2Vec architecture, the corresponding algorithms are “distributed bag of words” (dbow) and “distributed memory” (dm)."
   ]
  },
  {
   "cell_type": "markdown",
   "metadata": {},
   "source": [
    "### DBOW\n",
    "\n",
    "DBOW is the Doc2Vec model analogous to Skip-gram model in Word2Vec. The paragraph vectors are obtained by training a neural network on the task of predicting a probability distribution of words in a paragraph given a randomly-sampled word from the paragraph.\n",
    "\n",
    "Training a Doc2Vec model is rather straight forward in Gensim, we initialize the model and train for 30 epochs:"
   ]
  },
  {
   "cell_type": "markdown",
   "metadata": {},
   "source": [
    "We set the minimum word count to 2 in order to discard words with very few occurrences. "
   ]
  },
  {
   "cell_type": "code",
   "execution_count": 18,
   "metadata": {},
   "outputs": [],
   "source": [
    "import multiprocessing\n",
    "\n",
    "cores = multiprocessing.cpu_count()"
   ]
  },
  {
   "cell_type": "markdown",
   "metadata": {},
   "source": [
    "Build a vocabulary"
   ]
  },
  {
   "cell_type": "code",
   "execution_count": 19,
   "metadata": {},
   "outputs": [
    {
     "name": "stderr",
     "output_type": "stream",
     "text": [
      "100%|██████████| 41211/41211 [00:00<00:00, 1502233.23it/s]\n"
     ]
    }
   ],
   "source": [
    "model_dbow = Doc2Vec(dm=0, vector_size=300, negative=5, hs=0, min_count=2, sample = 0, workers=cores)\n",
    "model_dbow.build_vocab([x for x in tqdm(train_tagged.values)])"
   ]
  },
  {
   "cell_type": "code",
   "execution_count": 20,
   "metadata": {},
   "outputs": [
    {
     "name": "stderr",
     "output_type": "stream",
     "text": [
      "100%|██████████| 41211/41211 [00:00<00:00, 1157257.57it/s]\n",
      "100%|██████████| 41211/41211 [00:00<00:00, 926777.74it/s]\n",
      "100%|██████████| 41211/41211 [00:00<00:00, 2049071.34it/s]\n",
      "100%|██████████| 41211/41211 [00:00<00:00, 1855087.22it/s]\n",
      "100%|██████████| 41211/41211 [00:00<00:00, 1888261.55it/s]\n",
      "100%|██████████| 41211/41211 [00:00<00:00, 1010915.94it/s]\n",
      "100%|██████████| 41211/41211 [00:00<00:00, 1265421.11it/s]\n",
      "100%|██████████| 41211/41211 [00:00<00:00, 1000998.74it/s]\n",
      "100%|██████████| 41211/41211 [00:00<00:00, 1766963.75it/s]\n",
      "100%|██████████| 41211/41211 [00:00<00:00, 879503.50it/s]\n",
      "100%|██████████| 41211/41211 [00:00<00:00, 1880169.06it/s]\n",
      "100%|██████████| 41211/41211 [00:00<00:00, 1524411.21it/s]\n",
      "100%|██████████| 41211/41211 [00:00<00:00, 1581324.90it/s]\n",
      "100%|██████████| 41211/41211 [00:00<00:00, 2132415.43it/s]\n",
      "100%|██████████| 41211/41211 [00:00<00:00, 1526214.84it/s]\n",
      "100%|██████████| 41211/41211 [00:00<00:00, 1660261.28it/s]\n",
      "100%|██████████| 41211/41211 [00:00<00:00, 1266005.01it/s]\n",
      "100%|██████████| 41211/41211 [00:00<00:00, 1635549.96it/s]\n",
      "100%|██████████| 41211/41211 [00:00<00:00, 1617263.09it/s]\n",
      "100%|██████████| 41211/41211 [00:00<00:00, 1264958.08it/s]\n",
      "100%|██████████| 41211/41211 [00:00<00:00, 2091189.64it/s]\n",
      "100%|██████████| 41211/41211 [00:00<00:00, 1114264.93it/s]\n",
      "100%|██████████| 41211/41211 [00:00<00:00, 1450376.01it/s]\n",
      "100%|██████████| 41211/41211 [00:00<00:00, 1140000.67it/s]\n",
      "100%|██████████| 41211/41211 [00:00<00:00, 1191167.19it/s]\n",
      "100%|██████████| 41211/41211 [00:00<00:00, 1679066.12it/s]\n",
      "100%|██████████| 41211/41211 [00:00<00:00, 1493046.29it/s]\n",
      "100%|██████████| 41211/41211 [00:00<00:00, 2077466.70it/s]\n",
      "100%|██████████| 41211/41211 [00:00<00:00, 1258923.55it/s]\n",
      "100%|██████████| 41211/41211 [00:00<00:00, 1503670.74it/s]\n"
     ]
    },
    {
     "name": "stdout",
     "output_type": "stream",
     "text": [
      "CPU times: user 9min 27s, sys: 24 s, total: 9min 51s\n",
      "Wall time: 3min 33s\n"
     ]
    }
   ],
   "source": [
    "%%time\n",
    "for epoch in range(30):\n",
    "    model_dbow.train(utils.shuffle([x for x in tqdm(train_tagged.values)]), total_examples=len(train_tagged.values), epochs=1)\n",
    "    model_dbow.alpha -= 0.002\n",
    "    model_dbow.min_alpha = model_dbow.alpha"
   ]
  },
  {
   "cell_type": "markdown",
   "metadata": {},
   "source": [
    "### Buliding the final vector feature for the classifier."
   ]
  },
  {
   "cell_type": "code",
   "execution_count": 21,
   "metadata": {},
   "outputs": [],
   "source": [
    "def vec_for_learning(model, tagged_docs):\n",
    "    sents = tagged_docs.values\n",
    "    targets, regressors = zip(*[(doc.tags[0], model.infer_vector(doc.words, steps=20)) for doc in sents])\n",
    "    return targets, regressors"
   ]
  },
  {
   "cell_type": "code",
   "execution_count": 22,
   "metadata": {},
   "outputs": [],
   "source": [
    "y_train, X_train = vec_for_learning(model_dbow, train_tagged)\n",
    "y_test, X_test = vec_for_learning(model_dbow, test_tagged)"
   ]
  },
  {
   "cell_type": "code",
   "execution_count": 23,
   "metadata": {},
   "outputs": [
    {
     "name": "stderr",
     "output_type": "stream",
     "text": [
      "/usr/local/lib/python2.7/site-packages/sklearn/linear_model/logistic.py:433: FutureWarning: Default solver will be changed to 'lbfgs' in 0.22. Specify a solver to silence this warning.\n",
      "  FutureWarning)\n",
      "/usr/local/lib/python2.7/site-packages/sklearn/linear_model/logistic.py:460: FutureWarning: Default multi_class will be changed to 'auto' in 0.22. Specify the multi_class option to silence this warning.\n",
      "  \"this warning.\", FutureWarning)\n"
     ]
    }
   ],
   "source": [
    "logreg = LogisticRegression(n_jobs=1, C=1e5)\n",
    "logreg.fit(X_train, y_train)\n",
    "y_pred = logreg.predict(X_test)"
   ]
  },
  {
   "cell_type": "code",
   "execution_count": 27,
   "metadata": {},
   "outputs": [
    {
     "name": "stdout",
     "output_type": "stream",
     "text": [
      "Testing accuracy 0.6926909358546114\n",
      "Testing F1 score: 0.686397737174\n"
     ]
    },
    {
     "name": "stderr",
     "output_type": "stream",
     "text": [
      "/usr/local/lib/python2.7/site-packages/sklearn/metrics/classification.py:1145: UndefinedMetricWarning: F-score is ill-defined and being set to 0.0 in labels with no true samples.\n",
      "  'recall', 'true', average, warn_for)\n"
     ]
    }
   ],
   "source": [
    "from sklearn.metrics import accuracy_score, f1_score\n",
    "\n",
    "print('Testing accuracy %s' % accuracy_score(y_test, y_pred))\n",
    "print('Testing F1 score: {}'.format(f1_score(y_test, y_pred, average='weighted')))"
   ]
  },
  {
   "cell_type": "markdown",
   "metadata": {},
   "source": [
    "### Distributed Memory with Averaging\n",
    "\n",
    "Distributed Memory (DM) acts as a memory that remembers what is missing from the current context — or as the topic of the paragraph. While the word vectors represent the concept of a word, the document vector intends to represent the concept of a document.\n",
    "We again instantiate a Doc2Vec model with a vector size with 300 words and iterating over the training corpus 30 times."
   ]
  },
  {
   "cell_type": "code",
   "execution_count": 24,
   "metadata": {},
   "outputs": [
    {
     "name": "stderr",
     "output_type": "stream",
     "text": [
      "100%|██████████| 41211/41211 [00:00<00:00, 68601.43it/s]\n"
     ]
    }
   ],
   "source": [
    "model_dmm = Doc2Vec(dm=1, dm_mean=1, vector_size=300, window=10, negative=5, min_count=1, workers=5, alpha=0.065, min_alpha=0.065)\n",
    "model_dmm.build_vocab([x for x in tqdm(train_tagged.values)])"
   ]
  },
  {
   "cell_type": "code",
   "execution_count": 25,
   "metadata": {},
   "outputs": [
    {
     "name": "stderr",
     "output_type": "stream",
     "text": [
      "100%|██████████| 41211/41211 [00:00<00:00, 1095043.12it/s]\n",
      "100%|██████████| 41211/41211 [00:00<00:00, 2046523.98it/s]\n",
      "100%|██████████| 41211/41211 [00:00<00:00, 1342066.56it/s]\n",
      "100%|██████████| 41211/41211 [00:00<00:00, 1792098.27it/s]\n",
      "100%|██████████| 41211/41211 [00:00<00:00, 1238803.29it/s]\n",
      "100%|██████████| 41211/41211 [00:00<00:00, 1594482.43it/s]\n",
      "100%|██████████| 41211/41211 [00:00<00:00, 1318752.00it/s]\n",
      "100%|██████████| 41211/41211 [00:00<00:00, 1094467.63it/s]\n",
      "100%|██████████| 41211/41211 [00:00<00:00, 1923328.57it/s]\n",
      "100%|██████████| 41211/41211 [00:00<00:00, 2428610.04it/s]\n",
      "100%|██████████| 41211/41211 [00:00<00:00, 1667243.43it/s]\n",
      "100%|██████████| 41211/41211 [00:00<00:00, 1984927.56it/s]\n",
      "100%|██████████| 41211/41211 [00:00<00:00, 580003.43it/s]\n",
      "100%|██████████| 41211/41211 [00:00<00:00, 1413617.24it/s]\n",
      "100%|██████████| 41211/41211 [00:00<00:00, 2338896.42it/s]\n",
      "100%|██████████| 41211/41211 [00:00<00:00, 1988466.90it/s]\n",
      "100%|██████████| 41211/41211 [00:00<00:00, 1311159.46it/s]\n",
      "100%|██████████| 41211/41211 [00:00<00:00, 1330373.69it/s]\n",
      "100%|██████████| 41211/41211 [00:00<00:00, 1213401.44it/s]\n",
      "100%|██████████| 41211/41211 [00:00<00:00, 1674965.96it/s]\n",
      "100%|██████████| 41211/41211 [00:00<00:00, 1136634.79it/s]\n",
      "100%|██████████| 41211/41211 [00:00<00:00, 1427227.00it/s]\n",
      "100%|██████████| 41211/41211 [00:00<00:00, 944904.95it/s]\n",
      "100%|██████████| 41211/41211 [00:00<00:00, 1518345.27it/s]\n",
      "100%|██████████| 41211/41211 [00:00<00:00, 1665829.46it/s]\n",
      "100%|██████████| 41211/41211 [00:00<00:00, 1175268.65it/s]\n",
      "100%|██████████| 41211/41211 [00:00<00:00, 2300085.99it/s]\n",
      "100%|██████████| 41211/41211 [00:00<00:00, 1942718.80it/s]\n",
      "100%|██████████| 41211/41211 [00:00<00:00, 1225853.42it/s]\n",
      "100%|██████████| 41211/41211 [00:00<00:00, 1138956.55it/s]\n"
     ]
    },
    {
     "name": "stdout",
     "output_type": "stream",
     "text": [
      "CPU times: user 15min 27s, sys: 37.8 s, total: 16min 5s\n",
      "Wall time: 6min 13s\n"
     ]
    }
   ],
   "source": [
    "%%time\n",
    "for epoch in range(30):\n",
    "    model_dmm.train(utils.shuffle([x for x in tqdm(train_tagged.values)]), total_examples=len(train_tagged.values), epochs=1)\n",
    "    model_dmm.alpha -= 0.002\n",
    "    model_dmm.min_alpha = model_dmm.alpha"
   ]
  },
  {
   "cell_type": "markdown",
   "metadata": {},
   "source": [
    "### Train Logistic Regression"
   ]
  },
  {
   "cell_type": "code",
   "execution_count": 28,
   "metadata": {},
   "outputs": [
    {
     "name": "stdout",
     "output_type": "stream",
     "text": [
      "Testing accuracy 0.6943894015739116\n",
      "Testing F1 score: 0.687861434521\n"
     ]
    },
    {
     "name": "stderr",
     "output_type": "stream",
     "text": [
      "/usr/local/lib/python2.7/site-packages/sklearn/metrics/classification.py:1145: UndefinedMetricWarning: F-score is ill-defined and being set to 0.0 in labels with no true samples.\n",
      "  'recall', 'true', average, warn_for)\n"
     ]
    }
   ],
   "source": [
    "y_train, X_train = vec_for_learning(model_dmm, train_tagged)\n",
    "y_test, X_test = vec_for_learning(model_dmm, test_tagged)\n",
    "\n",
    "logreg.fit(X_train, y_train)\n",
    "y_pred = logreg.predict(X_test)\n",
    "\n",
    "print('Testing accuracy %s' % accuracy_score(y_test, y_pred))\n",
    "print('Testing F1 score: {}'.format(f1_score(y_test, y_pred, average='weighted')))"
   ]
  },
  {
   "cell_type": "code",
   "execution_count": 29,
   "metadata": {},
   "outputs": [],
   "source": [
    "model_dbow.delete_temporary_training_data(keep_doctags_vectors=True, keep_inference=True)\n",
    "model_dmm.delete_temporary_training_data(keep_doctags_vectors=True, keep_inference=True)"
   ]
  },
  {
   "cell_type": "code",
   "execution_count": 31,
   "metadata": {},
   "outputs": [],
   "source": [
    "from gensim.test.test_doc2vec import ConcatenatedDoc2Vec\n",
    "new_model = ConcatenatedDoc2Vec([model_dbow, model_dmm])"
   ]
  },
  {
   "cell_type": "code",
   "execution_count": 32,
   "metadata": {},
   "outputs": [],
   "source": [
    "def get_vectors(model, tagged_docs):\n",
    "    sents = tagged_docs.values\n",
    "    targets, regressors = zip(*[(doc.tags[0], model.infer_vector(doc.words, steps=20)) for doc in sents])\n",
    "    return targets, regressors"
   ]
  },
  {
   "cell_type": "code",
   "execution_count": 33,
   "metadata": {},
   "outputs": [],
   "source": [
    "y_train, X_train = get_vectors(new_model, train_tagged)\n",
    "y_test, X_test = get_vectors(new_model, test_tagged)"
   ]
  },
  {
   "cell_type": "code",
   "execution_count": 34,
   "metadata": {},
   "outputs": [
    {
     "name": "stdout",
     "output_type": "stream",
     "text": [
      "Testing accuracy 0.6968804846288852\n",
      "Testing F1 score: 0.691758321246\n"
     ]
    },
    {
     "name": "stderr",
     "output_type": "stream",
     "text": [
      "/usr/local/lib/python2.7/site-packages/sklearn/metrics/classification.py:1145: UndefinedMetricWarning: F-score is ill-defined and being set to 0.0 in labels with no true samples.\n",
      "  'recall', 'true', average, warn_for)\n"
     ]
    }
   ],
   "source": [
    "logreg.fit(X_train, y_train)\n",
    "y_pred = logreg.predict(X_test)\n",
    "\n",
    "print('Testing accuracy %s' % accuracy_score(y_test, y_pred))\n",
    "print('Testing F1 score: {}'.format(f1_score(y_test, y_pred, average='weighted')))"
   ]
  },
  {
   "cell_type": "code",
   "execution_count": null,
   "metadata": {},
   "outputs": [],
   "source": []
  }
 ],
 "metadata": {
  "kernelspec": {
   "display_name": "Python 2",
   "language": "python",
   "name": "python2"
  },
  "language_info": {
   "codemirror_mode": {
    "name": "ipython",
    "version": 2
   },
   "file_extension": ".py",
   "mimetype": "text/x-python",
   "name": "python",
   "nbconvert_exporter": "python",
   "pygments_lexer": "ipython2",
   "version": "2.7.14"
  }
 },
 "nbformat": 4,
 "nbformat_minor": 2
}

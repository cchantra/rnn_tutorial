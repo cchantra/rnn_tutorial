{
 "cells": [
  {
   "cell_type": "markdown",
   "metadata": {},
   "source": [
    "# Summarizing Text with Amazon Reviews"
   ]
  },
  {
   "cell_type": "markdown",
   "metadata": {},
   "source": [
    "The objective of this project is to build a model that can create relevant summaries for reviews written about fine foods sold on Amazon. This dataset contains above 500,000 reviews, and is hosted on [Kaggle](https://www.kaggle.com/snap/amazon-fine-food-reviews).\n",
    "\n",
    "To build our model we will use a two-layered bidirectional RNN with LSTMs on the input data and two layers, each with an LSTM using bahdanau attention on the target data.\n",
    "\n",
    "The sections of this project are:\n",
    "- [1.Inspecting the Data](#1.-Insepcting-the-Data)\n",
    "- [2.Preparing the Data](#2.-Preparing-the-Data)\n",
    "- [3.Building the Model](#3.-Building-the-Model)\n",
    "- [4.Training the Model](#4.-Training-the-Model)\n",
    "- [5.Making Our Own Summaries](#5.-Making-Our-Own-Summaries)\n",
    "\n",
    "## Download data\n",
    "Amazon Reviews Data: [Reviews.csv](https://www.kaggle.com/snap/amazon-fine-food-reviews/downloads/Reviews.csv)\n",
    "\n",
    "word embeddings [numberbatch-en-17.06.txt.gz](https://conceptnet.s3.amazonaws.com/downloads/2017/numberbatch/numberbatch-en-17.06.txt.gz)\n",
    "after download, extract to **./model/numberbatch-en-17.06.txt**"
   ]
  },
  {
   "cell_type": "code",
   "execution_count": 3,
   "metadata": {},
   "outputs": [
    {
     "name": "stdout",
     "output_type": "stream",
     "text": [
      "TensorFlow Version: 1.12.0\n"
     ]
    }
   ],
   "source": [
    "import pandas as pd\n",
    "import numpy as np\n",
    "import tensorflow as tf\n",
    "import re\n",
    "from nltk.corpus import stopwords\n",
    "import time\n",
    "from tensorflow.python.layers.core import Dense\n",
    "from tensorflow.python.ops.rnn_cell_impl import _zero_state_tensors\n",
    "from tensorflow.python.ops import array_ops\n",
    "from tensorflow.python.ops import tensor_array_ops\n",
    "print('TensorFlow Version: {}'.format(tf.__version__))"
   ]
  },
  {
   "cell_type": "code",
   "execution_count": 4,
   "metadata": {},
   "outputs": [],
   "source": [
    "import pickle\n",
    "def __pickleStuff(filename, stuff):\n",
    "    save_stuff = open(filename, \"wb\")\n",
    "    pickle.dump(stuff, save_stuff)\n",
    "    save_stuff.close()\n",
    "def __loadStuff(filename):\n",
    "    saved_stuff = open(filename,\"rb\")\n",
    "    stuff = pickle.load(saved_stuff)\n",
    "    saved_stuff.close()\n",
    "    return stuff"
   ]
  },
  {
   "cell_type": "markdown",
   "metadata": {},
   "source": [
    "## Load those prepared data and skip to section \"[3. Building the Model](#3.-Building-the-Model)\"\n",
    "Once we have run through the \"[2.Preparing the Data](#2.-Preparing-the-Data)\" section, we should have those data, uncomment and run those lines."
   ]
  },
  {
   "cell_type": "code",
   "execution_count": 5,
   "metadata": {},
   "outputs": [],
   "source": [
    "clean_summaries = __loadStuff(\"./data/clean_summaries.p\")\n",
    "clean_texts = __loadStuff(\"./data/clean_texts.p\")\n",
    "\n",
    "sorted_summaries = __loadStuff(\"./data/sorted_summaries.p\")\n",
    "sorted_texts = __loadStuff(\"./data/sorted_texts.p\")\n",
    "word_embedding_matrix = __loadStuff(\"./data/word_embedding_matrix.p\")\n",
    "\n",
    "vocab_to_int = __loadStuff(\"./data/vocab_to_int.p\")\n",
    "int_to_vocab = __loadStuff(\"./data/int_to_vocab.p\")\n"
   ]
  },
  {
   "cell_type": "markdown",
   "metadata": {},
   "source": [
    "## 1. Insepcting the Data"
   ]
  },
  {
   "cell_type": "code",
   "execution_count": 8,
   "metadata": {},
   "outputs": [],
   "source": [
    "reviews = pd.read_csv(\"Reviews.csv\")"
   ]
  },
  {
   "cell_type": "code",
   "execution_count": 9,
   "metadata": {},
   "outputs": [
    {
     "data": {
      "text/plain": [
       "(568454, 10)"
      ]
     },
     "execution_count": 9,
     "metadata": {},
     "output_type": "execute_result"
    }
   ],
   "source": [
    "reviews.shape"
   ]
  },
  {
   "cell_type": "code",
   "execution_count": 10,
   "metadata": {},
   "outputs": [
    {
     "data": {
      "text/html": [
       "<div>\n",
       "<style scoped>\n",
       "    .dataframe tbody tr th:only-of-type {\n",
       "        vertical-align: middle;\n",
       "    }\n",
       "\n",
       "    .dataframe tbody tr th {\n",
       "        vertical-align: top;\n",
       "    }\n",
       "\n",
       "    .dataframe thead th {\n",
       "        text-align: right;\n",
       "    }\n",
       "</style>\n",
       "<table border=\"1\" class=\"dataframe\">\n",
       "  <thead>\n",
       "    <tr style=\"text-align: right;\">\n",
       "      <th></th>\n",
       "      <th>Id</th>\n",
       "      <th>ProductId</th>\n",
       "      <th>UserId</th>\n",
       "      <th>ProfileName</th>\n",
       "      <th>HelpfulnessNumerator</th>\n",
       "      <th>HelpfulnessDenominator</th>\n",
       "      <th>Score</th>\n",
       "      <th>Time</th>\n",
       "      <th>Summary</th>\n",
       "      <th>Text</th>\n",
       "    </tr>\n",
       "  </thead>\n",
       "  <tbody>\n",
       "    <tr>\n",
       "      <th>0</th>\n",
       "      <td>1</td>\n",
       "      <td>B001E4KFG0</td>\n",
       "      <td>A3SGXH7AUHU8GW</td>\n",
       "      <td>delmartian</td>\n",
       "      <td>1</td>\n",
       "      <td>1</td>\n",
       "      <td>5</td>\n",
       "      <td>1303862400</td>\n",
       "      <td>Good Quality Dog Food</td>\n",
       "      <td>I have bought several of the Vitality canned d...</td>\n",
       "    </tr>\n",
       "    <tr>\n",
       "      <th>1</th>\n",
       "      <td>2</td>\n",
       "      <td>B00813GRG4</td>\n",
       "      <td>A1D87F6ZCVE5NK</td>\n",
       "      <td>dll pa</td>\n",
       "      <td>0</td>\n",
       "      <td>0</td>\n",
       "      <td>1</td>\n",
       "      <td>1346976000</td>\n",
       "      <td>Not as Advertised</td>\n",
       "      <td>Product arrived labeled as Jumbo Salted Peanut...</td>\n",
       "    </tr>\n",
       "    <tr>\n",
       "      <th>2</th>\n",
       "      <td>3</td>\n",
       "      <td>B000LQOCH0</td>\n",
       "      <td>ABXLMWJIXXAIN</td>\n",
       "      <td>Natalia Corres \"Natalia Corres\"</td>\n",
       "      <td>1</td>\n",
       "      <td>1</td>\n",
       "      <td>4</td>\n",
       "      <td>1219017600</td>\n",
       "      <td>\"Delight\" says it all</td>\n",
       "      <td>This is a confection that has been around a fe...</td>\n",
       "    </tr>\n",
       "    <tr>\n",
       "      <th>3</th>\n",
       "      <td>4</td>\n",
       "      <td>B000UA0QIQ</td>\n",
       "      <td>A395BORC6FGVXV</td>\n",
       "      <td>Karl</td>\n",
       "      <td>3</td>\n",
       "      <td>3</td>\n",
       "      <td>2</td>\n",
       "      <td>1307923200</td>\n",
       "      <td>Cough Medicine</td>\n",
       "      <td>If you are looking for the secret ingredient i...</td>\n",
       "    </tr>\n",
       "    <tr>\n",
       "      <th>4</th>\n",
       "      <td>5</td>\n",
       "      <td>B006K2ZZ7K</td>\n",
       "      <td>A1UQRSCLF8GW1T</td>\n",
       "      <td>Michael D. Bigham \"M. Wassir\"</td>\n",
       "      <td>0</td>\n",
       "      <td>0</td>\n",
       "      <td>5</td>\n",
       "      <td>1350777600</td>\n",
       "      <td>Great taffy</td>\n",
       "      <td>Great taffy at a great price.  There was a wid...</td>\n",
       "    </tr>\n",
       "  </tbody>\n",
       "</table>\n",
       "</div>"
      ],
      "text/plain": [
       "   Id   ProductId          UserId                      ProfileName  \\\n",
       "0   1  B001E4KFG0  A3SGXH7AUHU8GW                       delmartian   \n",
       "1   2  B00813GRG4  A1D87F6ZCVE5NK                           dll pa   \n",
       "2   3  B000LQOCH0   ABXLMWJIXXAIN  Natalia Corres \"Natalia Corres\"   \n",
       "3   4  B000UA0QIQ  A395BORC6FGVXV                             Karl   \n",
       "4   5  B006K2ZZ7K  A1UQRSCLF8GW1T    Michael D. Bigham \"M. Wassir\"   \n",
       "\n",
       "   HelpfulnessNumerator  HelpfulnessDenominator  Score        Time  \\\n",
       "0                     1                       1      5  1303862400   \n",
       "1                     0                       0      1  1346976000   \n",
       "2                     1                       1      4  1219017600   \n",
       "3                     3                       3      2  1307923200   \n",
       "4                     0                       0      5  1350777600   \n",
       "\n",
       "                 Summary                                               Text  \n",
       "0  Good Quality Dog Food  I have bought several of the Vitality canned d...  \n",
       "1      Not as Advertised  Product arrived labeled as Jumbo Salted Peanut...  \n",
       "2  \"Delight\" says it all  This is a confection that has been around a fe...  \n",
       "3         Cough Medicine  If you are looking for the secret ingredient i...  \n",
       "4            Great taffy  Great taffy at a great price.  There was a wid...  "
      ]
     },
     "execution_count": 10,
     "metadata": {},
     "output_type": "execute_result"
    }
   ],
   "source": [
    "reviews.head()"
   ]
  },
  {
   "cell_type": "code",
   "execution_count": 11,
   "metadata": {},
   "outputs": [
    {
     "data": {
      "text/plain": [
       "Id                         0\n",
       "ProductId                  0\n",
       "UserId                     0\n",
       "ProfileName               16\n",
       "HelpfulnessNumerator       0\n",
       "HelpfulnessDenominator     0\n",
       "Score                      0\n",
       "Time                       0\n",
       "Summary                   27\n",
       "Text                       0\n",
       "dtype: int64"
      ]
     },
     "execution_count": 11,
     "metadata": {},
     "output_type": "execute_result"
    }
   ],
   "source": [
    "# Check for any nulls values\n",
    "reviews.isnull().sum()"
   ]
  },
  {
   "cell_type": "code",
   "execution_count": 12,
   "metadata": {},
   "outputs": [],
   "source": [
    "# Remove null values and unneeded features\n",
    "reviews = reviews.dropna()\n",
    "reviews = reviews.drop(['Id','ProductId','UserId','ProfileName','HelpfulnessNumerator','HelpfulnessDenominator',\n",
    "                        'Score','Time'], 1)\n",
    "reviews = reviews.reset_index(drop=True)"
   ]
  },
  {
   "cell_type": "code",
   "execution_count": 13,
   "metadata": {},
   "outputs": [
    {
     "data": {
      "text/plain": [
       "(568411, 2)"
      ]
     },
     "execution_count": 13,
     "metadata": {},
     "output_type": "execute_result"
    }
   ],
   "source": [
    "reviews.shape"
   ]
  },
  {
   "cell_type": "code",
   "execution_count": 14,
   "metadata": {},
   "outputs": [
    {
     "data": {
      "text/html": [
       "<div>\n",
       "<style scoped>\n",
       "    .dataframe tbody tr th:only-of-type {\n",
       "        vertical-align: middle;\n",
       "    }\n",
       "\n",
       "    .dataframe tbody tr th {\n",
       "        vertical-align: top;\n",
       "    }\n",
       "\n",
       "    .dataframe thead th {\n",
       "        text-align: right;\n",
       "    }\n",
       "</style>\n",
       "<table border=\"1\" class=\"dataframe\">\n",
       "  <thead>\n",
       "    <tr style=\"text-align: right;\">\n",
       "      <th></th>\n",
       "      <th>Summary</th>\n",
       "      <th>Text</th>\n",
       "    </tr>\n",
       "  </thead>\n",
       "  <tbody>\n",
       "    <tr>\n",
       "      <th>0</th>\n",
       "      <td>Good Quality Dog Food</td>\n",
       "      <td>I have bought several of the Vitality canned d...</td>\n",
       "    </tr>\n",
       "    <tr>\n",
       "      <th>1</th>\n",
       "      <td>Not as Advertised</td>\n",
       "      <td>Product arrived labeled as Jumbo Salted Peanut...</td>\n",
       "    </tr>\n",
       "    <tr>\n",
       "      <th>2</th>\n",
       "      <td>\"Delight\" says it all</td>\n",
       "      <td>This is a confection that has been around a fe...</td>\n",
       "    </tr>\n",
       "    <tr>\n",
       "      <th>3</th>\n",
       "      <td>Cough Medicine</td>\n",
       "      <td>If you are looking for the secret ingredient i...</td>\n",
       "    </tr>\n",
       "    <tr>\n",
       "      <th>4</th>\n",
       "      <td>Great taffy</td>\n",
       "      <td>Great taffy at a great price.  There was a wid...</td>\n",
       "    </tr>\n",
       "  </tbody>\n",
       "</table>\n",
       "</div>"
      ],
      "text/plain": [
       "                 Summary                                               Text\n",
       "0  Good Quality Dog Food  I have bought several of the Vitality canned d...\n",
       "1      Not as Advertised  Product arrived labeled as Jumbo Salted Peanut...\n",
       "2  \"Delight\" says it all  This is a confection that has been around a fe...\n",
       "3         Cough Medicine  If you are looking for the secret ingredient i...\n",
       "4            Great taffy  Great taffy at a great price.  There was a wid..."
      ]
     },
     "execution_count": 14,
     "metadata": {},
     "output_type": "execute_result"
    }
   ],
   "source": [
    "reviews.head()"
   ]
  },
  {
   "cell_type": "code",
   "execution_count": 15,
   "metadata": {},
   "outputs": [
    {
     "name": "stdout",
     "output_type": "stream",
     "text": [
      "('Review #', 1)\n",
      "Good Quality Dog Food\n",
      "I have bought several of the Vitality canned dog food products and have found them all to be of good quality. The product looks more like a stew than a processed meat and it smells better. My Labrador is finicky and she appreciates this product better than  most.\n",
      "()\n",
      "('Review #', 2)\n",
      "Not as Advertised\n",
      "Product arrived labeled as Jumbo Salted Peanuts...the peanuts were actually small sized unsalted. Not sure if this was an error or if the vendor intended to represent the product as \"Jumbo\".\n",
      "()\n",
      "('Review #', 3)\n",
      "\"Delight\" says it all\n",
      "This is a confection that has been around a few centuries.  It is a light, pillowy citrus gelatin with nuts - in this case Filberts. And it is cut into tiny squares and then liberally coated with powdered sugar.  And it is a tiny mouthful of heaven.  Not too chewy, and very flavorful.  I highly recommend this yummy treat.  If you are familiar with the story of C.S. Lewis' \"The Lion, The Witch, and The Wardrobe\" - this is the treat that seduces Edmund into selling out his Brother and Sisters to the Witch.\n",
      "()\n",
      "('Review #', 4)\n",
      "Cough Medicine\n",
      "If you are looking for the secret ingredient in Robitussin I believe I have found it.  I got this in addition to the Root Beer Extract I ordered (which was good) and made some cherry soda.  The flavor is very medicinal.\n",
      "()\n",
      "('Review #', 5)\n",
      "Great taffy\n",
      "Great taffy at a great price.  There was a wide assortment of yummy taffy.  Delivery was very quick.  If your a taffy lover, this is a deal.\n",
      "()\n"
     ]
    }
   ],
   "source": [
    "# Inspecting some of the reviews\n",
    "for i in range(5):\n",
    "    print(\"Review #\",i+1)\n",
    "    print(reviews.Summary[i])\n",
    "    print(reviews.Text[i])\n",
    "    print()"
   ]
  },
  {
   "cell_type": "markdown",
   "metadata": {},
   "source": [
    "## 2. Preparing the Data"
   ]
  },
  {
   "cell_type": "code",
   "execution_count": 16,
   "metadata": {},
   "outputs": [],
   "source": [
    "# A list of contractions from http://stackoverflow.com/questions/19790188/expanding-english-language-contractions-in-python\n",
    "contractions = { \n",
    "\"ain't\": \"am not\",\n",
    "\"aren't\": \"are not\",\n",
    "\"can't\": \"cannot\",\n",
    "\"can't've\": \"cannot have\",\n",
    "\"'cause\": \"because\",\n",
    "\"could've\": \"could have\",\n",
    "\"couldn't\": \"could not\",\n",
    "\"couldn't've\": \"could not have\",\n",
    "\"didn't\": \"did not\",\n",
    "\"doesn't\": \"does not\",\n",
    "\"don't\": \"do not\",\n",
    "\"hadn't\": \"had not\",\n",
    "\"hadn't've\": \"had not have\",\n",
    "\"hasn't\": \"has not\",\n",
    "\"haven't\": \"have not\",\n",
    "\"he'd\": \"he would\",\n",
    "\"he'd've\": \"he would have\",\n",
    "\"he'll\": \"he will\",\n",
    "\"he's\": \"he is\",\n",
    "\"how'd\": \"how did\",\n",
    "\"how'll\": \"how will\",\n",
    "\"how's\": \"how is\",\n",
    "\"i'd\": \"i would\",\n",
    "\"i'll\": \"i will\",\n",
    "\"i'm\": \"i am\",\n",
    "\"i've\": \"i have\",\n",
    "\"isn't\": \"is not\",\n",
    "\"it'd\": \"it would\",\n",
    "\"it'll\": \"it will\",\n",
    "\"it's\": \"it is\",\n",
    "\"let's\": \"let us\",\n",
    "\"ma'am\": \"madam\",\n",
    "\"mayn't\": \"may not\",\n",
    "\"might've\": \"might have\",\n",
    "\"mightn't\": \"might not\",\n",
    "\"must've\": \"must have\",\n",
    "\"mustn't\": \"must not\",\n",
    "\"needn't\": \"need not\",\n",
    "\"oughtn't\": \"ought not\",\n",
    "\"shan't\": \"shall not\",\n",
    "\"sha'n't\": \"shall not\",\n",
    "\"she'd\": \"she would\",\n",
    "\"she'll\": \"she will\",\n",
    "\"she's\": \"she is\",\n",
    "\"should've\": \"should have\",\n",
    "\"shouldn't\": \"should not\",\n",
    "\"that'd\": \"that would\",\n",
    "\"that's\": \"that is\",\n",
    "\"there'd\": \"there had\",\n",
    "\"there's\": \"there is\",\n",
    "\"they'd\": \"they would\",\n",
    "\"they'll\": \"they will\",\n",
    "\"they're\": \"they are\",\n",
    "\"they've\": \"they have\",\n",
    "\"wasn't\": \"was not\",\n",
    "\"we'd\": \"we would\",\n",
    "\"we'll\": \"we will\",\n",
    "\"we're\": \"we are\",\n",
    "\"we've\": \"we have\",\n",
    "\"weren't\": \"were not\",\n",
    "\"what'll\": \"what will\",\n",
    "\"what're\": \"what are\",\n",
    "\"what's\": \"what is\",\n",
    "\"what've\": \"what have\",\n",
    "\"where'd\": \"where did\",\n",
    "\"where's\": \"where is\",\n",
    "\"who'll\": \"who will\",\n",
    "\"who's\": \"who is\",\n",
    "\"won't\": \"will not\",\n",
    "\"wouldn't\": \"would not\",\n",
    "\"you'd\": \"you would\",\n",
    "\"you'll\": \"you will\",\n",
    "\"you're\": \"you are\"\n",
    "}"
   ]
  },
  {
   "cell_type": "code",
   "execution_count": 17,
   "metadata": {},
   "outputs": [],
   "source": [
    "def clean_text(text, remove_stopwords = True):\n",
    "    '''Remove unwanted characters, stopwords, and format the text to create fewer nulls word embeddings'''\n",
    "    \n",
    "    # Convert words to lower case\n",
    "    text = text.lower()\n",
    "    \n",
    "    # Replace contractions with their longer forms \n",
    "    if True:\n",
    "        # We are not using \"text.split()\" here\n",
    "        #since it is not fool proof, e.g. words followed by punctuations \"Are you kidding?I think you aren't.\"\n",
    "        text = re.findall(r\"[\\w']+\", text)\n",
    "        new_text = []\n",
    "        for word in text:\n",
    "            if word in contractions:\n",
    "                new_text.append(contractions[word])\n",
    "            else:\n",
    "                new_text.append(word)\n",
    "        text = \" \".join(new_text)\n",
    "    \n",
    "    # Format words and remove unwanted characters\n",
    "    text = re.sub(r'https?:\\/\\/.*[\\r\\n]*', '', text, flags=re.MULTILINE)# remove links\n",
    "    text = re.sub(r'\\<a href', ' ', text)# remove html link tag\n",
    "    text = re.sub(r'&amp;', '', text) \n",
    "    text = re.sub(r'[_\"\\-;%()|+&=*%.,!?:#$@\\[\\]/]', ' ', text)\n",
    "    text = re.sub(r'<br />', ' ', text)\n",
    "    text = re.sub(r'\\'', ' ', text)\n",
    "    \n",
    "    # Optionally, remove stop words\n",
    "    if remove_stopwords:\n",
    "        text = text.split()\n",
    "        stops = set(stopwords.words(\"english\"))\n",
    "        text = [w for w in text if not w in stops]\n",
    "        text = \" \".join(text)\n",
    "\n",
    "    return text"
   ]
  },
  {
   "cell_type": "code",
   "execution_count": 21,
   "metadata": {},
   "outputs": [
    {
     "data": {
      "text/plain": [
       "'great movie believe may'"
      ]
     },
     "execution_count": 21,
     "metadata": {},
     "output_type": "execute_result"
    }
   ],
   "source": [
    "clean_text(\"That's a great movie,Can you believe it?I've.But you may not.\")"
   ]
  },
  {
   "cell_type": "markdown",
   "metadata": {},
   "source": [
    "### Clean the summaries and texts\n",
    "We will remove the stopwords from the texts because they do not provide much use for training our model. However, we will keep them for our summaries so that they sound more like natural phrases. "
   ]
  },
  {
   "cell_type": "code",
   "execution_count": 20,
   "metadata": {},
   "outputs": [
    {
     "name": "stdout",
     "output_type": "stream",
     "text": [
      "Summaries are complete.\n",
      "Texts are complete.\n"
     ]
    }
   ],
   "source": [
    "clean_summaries = []\n",
    "for summary in reviews.Summary:\n",
    "    clean_summaries.append(clean_text(summary, remove_stopwords=False))\n",
    "print(\"Summaries are complete.\")\n",
    "\n",
    "clean_texts = []\n",
    "for text in reviews.Text:\n",
    "    clean_texts.append(clean_text(text))\n",
    "print(\"Texts are complete.\")"
   ]
  },
  {
   "cell_type": "code",
   "execution_count": 22,
   "metadata": {},
   "outputs": [
    {
     "name": "stdout",
     "output_type": "stream",
     "text": [
      "('Clean Review #', 1)\n",
      "good quality dog food\n",
      "bought several vitality canned dog food products found good quality product looks like stew processed meat smells better labrador finicky appreciates product better\n",
      "()\n",
      "('Clean Review #', 2)\n",
      "not as advertised\n",
      "product arrived labeled jumbo salted peanuts peanuts actually small sized unsalted sure error vendor intended represent product jumbo\n",
      "()\n",
      "('Clean Review #', 3)\n",
      "delight says it all\n",
      "confection around centuries light pillowy citrus gelatin nuts case filberts cut tiny squares liberally coated powdered sugar tiny mouthful heaven chewy flavorful highly recommend yummy treat familiar story c lewis lion witch wardrobe treat seduces edmund selling brother sisters witch\n",
      "()\n",
      "('Clean Review #', 4)\n",
      "cough medicine\n",
      "looking secret ingredient robitussin believe found got addition root beer extract ordered good made cherry soda flavor medicinal\n",
      "()\n",
      "('Clean Review #', 5)\n",
      "great taffy\n",
      "great taffy great price wide assortment yummy taffy delivery quick taffy lover deal\n",
      "()\n"
     ]
    }
   ],
   "source": [
    "# Inspect the cleaned summaries and texts to ensure they have been cleaned well\n",
    "for i in range(5):\n",
    "    print(\"Clean Review #\",i+1)\n",
    "    print(clean_summaries[i])\n",
    "    print(clean_texts[i])\n",
    "    print()"
   ]
  },
  {
   "cell_type": "markdown",
   "metadata": {},
   "source": [
    "### Count the number of occurrences of each word in a set of text"
   ]
  },
  {
   "cell_type": "code",
   "execution_count": 16,
   "metadata": {
    "collapsed": true
   },
   "outputs": [],
   "source": [
    "def count_words(count_dict, text):\n",
    "    for sentence in text:\n",
    "        for word in sentence.split():\n",
    "            if word not in count_dict:\n",
    "                count_dict[word] = 1\n",
    "            else:\n",
    "                count_dict[word] += 1"
   ]
  },
  {
   "cell_type": "markdown",
   "metadata": {},
   "source": [
    "#### Give the function a try"
   ]
  },
  {
   "cell_type": "code",
   "execution_count": 17,
   "metadata": {},
   "outputs": [
    {
     "data": {
      "text/plain": [
       "{'a': 2, 'dog': 2, 'great': 4, 'have': 1, 'is': 1, 'that': 1, 'you': 1}"
      ]
     },
     "execution_count": 17,
     "metadata": {},
     "output_type": "execute_result"
    }
   ],
   "source": [
    "mydict = {}\n",
    "count_words(mydict, [\"that is a great great great dog\",\"you have a great dog\"])\n",
    "mydict"
   ]
  },
  {
   "cell_type": "code",
   "execution_count": 18,
   "metadata": {},
   "outputs": [
    {
     "name": "stdout",
     "output_type": "stream",
     "text": [
      "Size of Vocabulary: 125880\n"
     ]
    }
   ],
   "source": [
    "word_counts = {}\n",
    "count_words(word_counts, clean_summaries)\n",
    "count_words(word_counts, clean_texts)\n",
    "print(\"Size of Vocabulary:\", len(word_counts))"
   ]
  },
  {
   "cell_type": "markdown",
   "metadata": {},
   "source": [
    "Let's see how may \"hero\" occurs in the data"
   ]
  },
  {
   "cell_type": "code",
   "execution_count": 19,
   "metadata": {},
   "outputs": [
    {
     "data": {
      "text/plain": [
       "114"
      ]
     },
     "execution_count": 19,
     "metadata": {},
     "output_type": "execute_result"
    }
   ],
   "source": [
    "word_counts[\"hero\"]"
   ]
  },
  {
   "cell_type": "markdown",
   "metadata": {
    "collapsed": true
   },
   "source": [
    "### Load Conceptnet Numberbatch's (CN) embeddings, similar to GloVe, but probably better \n",
    " (https://github.com/commonsense/conceptnet-numberbatch)"
   ]
  },
  {
   "cell_type": "code",
   "execution_count": 20,
   "metadata": {},
   "outputs": [
    {
     "name": "stdout",
     "output_type": "stream",
     "text": [
      "Word embeddings: 417195\n"
     ]
    }
   ],
   "source": [
    "#change to glove50\n",
    "embeddings_index = {}\n",
    "with open('./glove.6B.50d.txt', encoding='utf-8') as f:\n",
    "#with open('./model/numberbatch-en-17.06.txt', encoding='utf-8') as f:\n",
    "    for line in f:\n",
    "        values = line.split(' ')\n",
    "        word = values[0]\n",
    "        embedding = np.asarray(values[1:], dtype='float32')\n",
    "        embeddings_index[word] = embedding\n",
    "\n",
    "print('Word embeddings:', len(embeddings_index))"
   ]
  },
  {
   "cell_type": "markdown",
   "metadata": {},
   "source": [
    "### Take a look at the embedding dimension"
   ]
  },
  {
   "cell_type": "code",
   "execution_count": 21,
   "metadata": {},
   "outputs": [
    {
     "data": {
      "text/plain": [
       "(300,)"
      ]
     },
     "execution_count": 21,
     "metadata": {},
     "output_type": "execute_result"
    }
   ],
   "source": [
    "embeddings_index[\"hero\"].shape"
   ]
  },
  {
   "cell_type": "markdown",
   "metadata": {},
   "source": [
    "### Find the number of words that are missing from Glove, and are used more than our threshold.\n",
    "\n",
    "I use a **threshold** of 20, so that words not in Glove can be added to our **word_embedding_matrix**, but they need to be common enough in the reviews so that the model can understand their meaning."
   ]
  },
  {
   "cell_type": "code",
   "execution_count": 22,
   "metadata": {},
   "outputs": [
    {
     "name": "stdout",
     "output_type": "stream",
     "text": [
      "Number of words missing from CN: 2608\n",
      "Percent of words that are missing from vocabulary: 2.07%\n"
     ]
    }
   ],
   "source": [
    "missing_words = 0\n",
    "threshold = 20\n",
    "\n",
    "for word, count in word_counts.items():\n",
    "    if count > threshold:\n",
    "        if word not in embeddings_index:\n",
    "            missing_words += 1\n",
    "            \n",
    "missing_ratio = round(missing_words/len(word_counts),4)*100\n",
    "            \n",
    "print(\"Number of words missing from CN:\", missing_words)\n",
    "print(\"Percent of words that are missing from vocabulary: {}%\".format(missing_ratio))"
   ]
  },
  {
   "cell_type": "markdown",
   "metadata": {},
   "source": [
    "### What are those missing words in the glove\n",
    "Looks mostly products' brand."
   ]
  },
  {
   "cell_type": "code",
   "execution_count": 23,
   "metadata": {},
   "outputs": [
    {
     "data": {
      "text/plain": [
       "[('wafu', 29),\n",
       " ('wasaibi', 24),\n",
       " ('sauage', 23),\n",
       " ('diabetisweet', 27),\n",
       " ('aerogrow', 99),\n",
       " ('lowfat', 298),\n",
       " ('deliverd', 21),\n",
       " ('bullysticks', 21),\n",
       " ('keurigs', 72),\n",
       " ('pepitas', 42),\n",
       " ('wellpet', 27),\n",
       " ('undertaste', 24),\n",
       " ('50g', 44),\n",
       " ('ammount', 45),\n",
       " ('400', 461),\n",
       " ('toniq', 21),\n",
       " ('gummis', 161),\n",
       " ('teasan', 81),\n",
       " ('27th', 28),\n",
       " ('iherb', 66),\n",
       " ('fage', 34),\n",
       " ('droste', 70),\n",
       " ('wholefoods', 145),\n",
       " ('marzanos', 29),\n",
       " ('discusting', 28),\n",
       " ('foojoy', 41),\n",
       " ('91', 75),\n",
       " ('indomie', 36),\n",
       " ('5hour', 64),\n",
       " ('ec155', 34)]"
      ]
     },
     "execution_count": 23,
     "metadata": {},
     "output_type": "execute_result"
    }
   ],
   "source": [
    "missing_words = []\n",
    "for word, count in word_counts.items():\n",
    "    if count > threshold and word not in embeddings_index:\n",
    "        missing_words.append((word,count))\n",
    "missing_words[:30]"
   ]
  },
  {
   "cell_type": "markdown",
   "metadata": {},
   "source": [
    "### Words to indexes, indexes to words dicts\n",
    "Limit the vocab that we will use to words that appear ≥ threshold or are in CN"
   ]
  },
  {
   "cell_type": "code",
   "execution_count": 24,
   "metadata": {},
   "outputs": [
    {
     "name": "stdout",
     "output_type": "stream",
     "text": [
      "Total number of unique words: 125880\n",
      "Number of words we will use: 59072\n",
      "Percent of words we will use: 46.93%\n"
     ]
    }
   ],
   "source": [
    "#dictionary to convert words to integers\n",
    "vocab_to_int = {} \n",
    "# Index words from 0\n",
    "value = 0\n",
    "for word, count in word_counts.items():\n",
    "    if count >= threshold or word in embeddings_index:\n",
    "        vocab_to_int[word] = value\n",
    "        value += 1\n",
    "\n",
    "# Special tokens that will be added to our vocab\n",
    "codes = [\"<UNK>\",\"<PAD>\",\"<EOS>\",\"<GO>\"]   \n",
    "\n",
    "# Add codes to vocab\n",
    "for code in codes:\n",
    "    vocab_to_int[code] = len(vocab_to_int)\n",
    "\n",
    "# Dictionary to convert integers to words\n",
    "int_to_vocab = {}\n",
    "for word, value in vocab_to_int.items():\n",
    "    int_to_vocab[value] = word\n",
    "\n",
    "usage_ratio = round(len(vocab_to_int) / len(word_counts),4)*100\n",
    "\n",
    "print(\"Total number of unique words:\", len(word_counts))\n",
    "print(\"Number of words we will use:\", len(vocab_to_int))\n",
    "print(\"Percent of words we will use: {}%\".format(usage_ratio))"
   ]
  },
  {
   "cell_type": "markdown",
   "metadata": {},
   "source": [
    "### Create word embedding matrix\n",
    "It has shape (nb_words, embedding_dim) i.e. (59072, 300) in this case. 1st dim is word index, 2nd dim is from CN or glove or random generated."
   ]
  },
  {
   "cell_type": "code",
   "execution_count": 25,
   "metadata": {},
   "outputs": [
    {
     "name": "stdout",
     "output_type": "stream",
     "text": [
      "59072\n"
     ]
    }
   ],
   "source": [
    "# Need to use 300 for embedding dimensions to match CN's vectors.\n",
    "embedding_dim = 50 # for ./glove.6B.50d.txt\n",
    "nb_words = len(vocab_to_int)\n",
    "\n",
    "# Create matrix with default values of zero\n",
    "word_embedding_matrix = np.zeros((nb_words, embedding_dim), dtype=np.float32)\n",
    "for word, i in vocab_to_int.items():\n",
    "    if word in embeddings_index:\n",
    "        word_embedding_matrix[i] = embeddings_index[word]\n",
    "    else:\n",
    "        # If word not in CN, create a random embedding for it\n",
    "        new_embedding = np.array(np.random.uniform(-1.0, 1.0, embedding_dim))\n",
    "        embeddings_index[word] = new_embedding\n",
    "        word_embedding_matrix[i] = new_embedding\n",
    "\n",
    "# Check if value matches len(vocab_to_int)\n",
    "print(len(word_embedding_matrix))"
   ]
  },
  {
   "cell_type": "markdown",
   "metadata": {},
   "source": [
    "### Function to convert sentences to sequence of words indexes\n",
    "It also use `<UNK>` index to replace unknown words, append `<EOS>` (End of Sentence) to the sequences if eos is set True"
   ]
  },
  {
   "cell_type": "code",
   "execution_count": 26,
   "metadata": {
    "collapsed": true
   },
   "outputs": [],
   "source": [
    "def convert_to_ints(text, word_count, unk_count, eos=False):\n",
    "    '''Convert words in text to an integer.\n",
    "       If word is not in vocab_to_int, use UNK's integer.\n",
    "       Total the number of words and UNKs.\n",
    "       Add EOS token to the end of texts'''\n",
    "    ints = []\n",
    "    for sentence in text:\n",
    "        sentence_ints = []\n",
    "        for word in sentence.split():\n",
    "            word_count += 1\n",
    "            if word in vocab_to_int:\n",
    "                sentence_ints.append(vocab_to_int[word])\n",
    "            else:\n",
    "                sentence_ints.append(vocab_to_int[\"<UNK>\"])\n",
    "                unk_count += 1\n",
    "        if eos:\n",
    "            sentence_ints.append(vocab_to_int[\"<EOS>\"])\n",
    "        ints.append(sentence_ints)\n",
    "    return ints, word_count, unk_count"
   ]
  },
  {
   "cell_type": "markdown",
   "metadata": {},
   "source": [
    "Apply convert_to_ints to clean_summaries and clean_texts"
   ]
  },
  {
   "cell_type": "code",
   "execution_count": 27,
   "metadata": {},
   "outputs": [
    {
     "name": "stdout",
     "output_type": "stream",
     "text": [
      "Total number of words in headlines: 26232576\n",
      "Total number of UNKs in headlines: 163594\n",
      "Percent of words that are UNK: 0.62%\n"
     ]
    }
   ],
   "source": [
    "\n",
    "word_count = 0\n",
    "unk_count = 0\n",
    "\n",
    "int_summaries, word_count, unk_count = convert_to_ints(clean_summaries, word_count, unk_count)\n",
    "int_texts, word_count, unk_count = convert_to_ints(clean_texts, word_count, unk_count, eos=True)\n",
    "\n",
    "unk_percent = round(unk_count/word_count,4)*100\n",
    "\n",
    "print(\"Total number of words in headlines:\", word_count)\n",
    "print(\"Total number of UNKs in headlines:\", unk_count)\n",
    "print(\"Percent of words that are UNK: {}%\".format(unk_percent))"
   ]
  },
  {
   "cell_type": "markdown",
   "metadata": {},
   "source": [
    "### Take a look at what the sequence looks like\n",
    "Each number here represents a word"
   ]
  },
  {
   "cell_type": "code",
   "execution_count": 28,
   "metadata": {},
   "outputs": [
    {
     "data": {
      "text/plain": [
       "[[32681, 40810, 26787, 54872],\n",
       " [2229, 54986, 47923],\n",
       " [23867, 38191, 14436, 39262]]"
      ]
     },
     "execution_count": 28,
     "metadata": {},
     "output_type": "execute_result"
    }
   ],
   "source": [
    "int_summaries[:3]"
   ]
  },
  {
   "cell_type": "markdown",
   "metadata": {},
   "source": [
    "### Function to get the length of each sequence"
   ]
  },
  {
   "cell_type": "code",
   "execution_count": 29,
   "metadata": {
    "collapsed": true
   },
   "outputs": [],
   "source": [
    "def create_lengths(text):\n",
    "    '''Create a data frame of the sentence lengths from a text'''\n",
    "    lengths = []\n",
    "    for sentence in text:\n",
    "        lengths.append(len(sentence))\n",
    "    return pd.DataFrame(lengths, columns=['counts'])"
   ]
  },
  {
   "cell_type": "code",
   "execution_count": 30,
   "metadata": {},
   "outputs": [
    {
     "data": {
      "text/html": [
       "<div>\n",
       "<table border=\"1\" class=\"dataframe\">\n",
       "  <thead>\n",
       "    <tr style=\"text-align: right;\">\n",
       "      <th></th>\n",
       "      <th>counts</th>\n",
       "    </tr>\n",
       "  </thead>\n",
       "  <tbody>\n",
       "    <tr>\n",
       "      <th>0</th>\n",
       "      <td>4</td>\n",
       "    </tr>\n",
       "    <tr>\n",
       "      <th>1</th>\n",
       "      <td>3</td>\n",
       "    </tr>\n",
       "    <tr>\n",
       "      <th>2</th>\n",
       "      <td>4</td>\n",
       "    </tr>\n",
       "  </tbody>\n",
       "</table>\n",
       "</div>"
      ],
      "text/plain": [
       "   counts\n",
       "0       4\n",
       "1       3\n",
       "2       4"
      ]
     },
     "execution_count": 30,
     "metadata": {},
     "output_type": "execute_result"
    }
   ],
   "source": [
    "create_lengths(int_summaries[:3])"
   ]
  },
  {
   "cell_type": "markdown",
   "metadata": {},
   "source": [
    "Get statistic summary of the length of summaries and texts"
   ]
  },
  {
   "cell_type": "code",
   "execution_count": 31,
   "metadata": {},
   "outputs": [
    {
     "name": "stdout",
     "output_type": "stream",
     "text": [
      "Summaries:\n",
      "              counts\n",
      "count  568412.000000\n",
      "mean        4.181208\n",
      "std         2.657212\n",
      "min         0.000000\n",
      "25%         2.000000\n",
      "50%         4.000000\n",
      "75%         5.000000\n",
      "max        48.000000\n",
      "\n",
      "Texts:\n",
      "              counts\n",
      "count  568412.000000\n",
      "mean       42.969429\n",
      "std        44.166421\n",
      "min         2.000000\n",
      "25%        18.000000\n",
      "50%        30.000000\n",
      "75%        51.000000\n",
      "max      2063.000000\n"
     ]
    }
   ],
   "source": [
    "lengths_summaries = create_lengths(int_summaries)\n",
    "lengths_texts = create_lengths(int_texts)\n",
    "\n",
    "print(\"Summaries:\")\n",
    "print(lengths_summaries.describe())\n",
    "print()\n",
    "print(\"Texts:\")\n",
    "print(lengths_texts.describe())"
   ]
  },
  {
   "cell_type": "markdown",
   "metadata": {},
   "source": [
    "### See what's the max squence length we can cover by percentile"
   ]
  },
  {
   "cell_type": "code",
   "execution_count": 32,
   "metadata": {},
   "outputs": [
    {
     "name": "stdout",
     "output_type": "stream",
     "text": [
      "84.0\n",
      "118.0\n",
      "216.0\n"
     ]
    }
   ],
   "source": [
    "# Inspect the length of texts\n",
    "print(np.percentile(lengths_texts.counts, 89.5))\n",
    "print(np.percentile(lengths_texts.counts, 95))\n",
    "print(np.percentile(lengths_texts.counts, 99))"
   ]
  },
  {
   "cell_type": "code",
   "execution_count": 33,
   "metadata": {},
   "outputs": [
    {
     "name": "stdout",
     "output_type": "stream",
     "text": [
      "8.0\n",
      "9.0\n",
      "13.0\n"
     ]
    }
   ],
   "source": [
    "# Inspect the length of summaries\n",
    "print(np.percentile(lengths_summaries.counts, 90))\n",
    "print(np.percentile(lengths_summaries.counts, 95))\n",
    "print(np.percentile(lengths_summaries.counts, 99))"
   ]
  },
  {
   "cell_type": "markdown",
   "metadata": {},
   "source": [
    "## Function to counts the number of time `<UNK>` appears in a sentence"
   ]
  },
  {
   "cell_type": "code",
   "execution_count": 34,
   "metadata": {
    "collapsed": true
   },
   "outputs": [],
   "source": [
    "def unk_counter(sentence):\n",
    "    '''Counts the number of time UNK appears in a sentence.'''\n",
    "    unk_count = 0\n",
    "    for word in sentence:\n",
    "        if word == vocab_to_int[\"<UNK>\"]:\n",
    "            unk_count += 1\n",
    "    return unk_count"
   ]
  },
  {
   "cell_type": "markdown",
   "metadata": {},
   "source": [
    "**Filter** for length limit and number of `<UNK>`s\n",
    "\n",
    "**Sort** the summaries and texts by the length of the element in **texts** from shortest to longest\n"
   ]
  },
  {
   "cell_type": "code",
   "execution_count": 39,
   "metadata": {},
   "outputs": [
    {
     "name": "stdout",
     "output_type": "stream",
     "text": [
      "428278\n",
      "428278\n"
     ]
    }
   ],
   "source": [
    "max_text_length = 83 # This will cover up to 89.5% lengthes\n",
    "max_summary_length = 13 # This will cover up to 99% lengthes\n",
    "min_length = 2\n",
    "unk_text_limit = 1 # text can contain up to 1 UNK word\n",
    "unk_summary_limit = 0 # Summary should not contain any UNK word\n",
    "\n",
    "def filter_condition(item):\n",
    "    int_summary = item[0]\n",
    "    int_text = item[1]\n",
    "    if(len(int_summary) >= min_length and \n",
    "       len(int_summary) <= max_summary_length and \n",
    "       len(int_text) >= min_length and \n",
    "       len(int_text) <= max_text_length and \n",
    "       unk_counter(int_summary) <= unk_summary_limit and \n",
    "       unk_counter(int_text) <= unk_text_limit):\n",
    "        return True\n",
    "    else:\n",
    "        return False\n",
    "\n",
    "int_text_summaries = list(zip(int_summaries , int_texts))\n",
    "int_text_summaries_filtered = list(filter(filter_condition, int_text_summaries))\n",
    "sorted_int_text_summaries = sorted(int_text_summaries_filtered, key=lambda item: len(item[1]))\n",
    "sorted_int_text_summaries = list(zip(*sorted_int_text_summaries))\n",
    "sorted_summaries = list(sorted_int_text_summaries[0])\n",
    "sorted_texts = list(sorted_int_text_summaries[1])\n",
    "# Delete those temporary varaibles\n",
    "del int_text_summaries, sorted_int_text_summaries, int_text_summaries_filtered\n",
    "# Compare lengths to ensure they match\n",
    "print(len(sorted_summaries))\n",
    "print(len(sorted_texts))"
   ]
  },
  {
   "cell_type": "markdown",
   "metadata": {},
   "source": [
    "### Inspect the length of text in sorted_texts"
   ]
  },
  {
   "cell_type": "code",
   "execution_count": 40,
   "metadata": {},
   "outputs": [
    {
     "data": {
      "text/plain": [
       "[2, 3, 3, 3, 4, 4, 4, 4, 4, 4, 4, 4, 4, 5, 5, 5, 5, 5, 5, 5]"
      ]
     },
     "execution_count": 40,
     "metadata": {},
     "output_type": "execute_result"
    }
   ],
   "source": [
    "lengths_texts = [len(text) for text in sorted_texts]\n",
    "lengths_texts[:20]"
   ]
  },
  {
   "cell_type": "markdown",
   "metadata": {},
   "source": [
    "## Save data for later"
   ]
  },
  {
   "cell_type": "code",
   "execution_count": 41,
   "metadata": {
    "collapsed": true
   },
   "outputs": [],
   "source": [
    "__pickleStuff(\"./data/clean_summaries.p\",clean_summaries)\n",
    "__pickleStuff(\"./data/clean_texts.p\",clean_texts)\n",
    "\n",
    "__pickleStuff(\"./data/sorted_summaries.p\",sorted_summaries)\n",
    "__pickleStuff(\"./data/sorted_texts.p\",sorted_texts)\n",
    "__pickleStuff(\"./data/word_embedding_matrix.p\",word_embedding_matrix)\n",
    "\n",
    "__pickleStuff(\"./data/vocab_to_int.p\",vocab_to_int)\n",
    "__pickleStuff(\"./data/int_to_vocab.p\",int_to_vocab)"
   ]
  },
  {
   "cell_type": "markdown",
   "metadata": {},
   "source": [
    "## 3. Building the Model"
   ]
  },
  {
   "cell_type": "markdown",
   "metadata": {},
   "source": [
    "Create palceholders for inputs to the model\n",
    "\n",
    "**summary_length** and **text_length** are the sentence lengths in a batch, and **max_summary_length** is the maximum length of a summary in a batch."
   ]
  },
  {
   "cell_type": "code",
   "execution_count": 6,
   "metadata": {},
   "outputs": [],
   "source": [
    "def model_inputs():\n",
    "    input_data = tf.placeholder(tf.int32, [None, None], name='input')\n",
    "    targets = tf.placeholder(tf.int32, [None, None], name='targets')\n",
    "    lr = tf.placeholder(tf.float32, name='learning_rate')\n",
    "    keep_prob = tf.placeholder(tf.float32, name='keep_prob')\n",
    "    summary_length = tf.placeholder(tf.int32, (None,), name='summary_length')\n",
    "    max_summary_length = tf.reduce_max(summary_length, name='max_dec_len')\n",
    "    text_length = tf.placeholder(tf.int32, (None,), name='text_length')\n",
    "\n",
    "    return input_data, targets, lr, keep_prob, summary_length, max_summary_length, text_length"
   ]
  },
  {
   "cell_type": "markdown",
   "metadata": {},
   "source": [
    "Remove the last word id from each batch and concatenate the id of `<GO>` to the begining of each batch"
   ]
  },
  {
   "cell_type": "code",
   "execution_count": 7,
   "metadata": {},
   "outputs": [],
   "source": [
    "def process_encoding_input(target_data, vocab_to_int, batch_size):  \n",
    "    ending = tf.strided_slice(target_data, [0, 0], [batch_size, -1], [1, 1]) # slice it to target_data[0:batch_size, 0: -1]\n",
    "    dec_input = tf.concat([tf.fill([batch_size, 1], vocab_to_int['<GO>']), ending], 1)\n",
    "\n",
    "    return dec_input"
   ]
  },
  {
   "cell_type": "markdown",
   "metadata": {},
   "source": [
    "### Create the encoding layers\n",
    "\n",
    "bidirectional_dynamic_rnn\n",
    "use **tf.variable_scope** so that variables are reused with each layer\n",
    "\n",
    "parameters\n",
    "- **rnn_size**: The number of units in the LSTM cell\n",
    "- **sequence_length**: size [batch_size], containing the actual lengths for each of the sequences in the batch\n",
    "- **num_layers**: number of bidirectional RNN layer\n",
    "- **rnn_inputs**: number of bidirectional RNN layer\n",
    "- **keep_prob**: RNN dropout input keep probability"
   ]
  },
  {
   "cell_type": "code",
   "execution_count": 8,
   "metadata": {},
   "outputs": [],
   "source": [
    "def encoding_layer(rnn_size, sequence_length, num_layers, rnn_inputs, keep_prob):\n",
    "    for layer in range(num_layers):\n",
    "        with tf.variable_scope('encoder_{}'.format(layer)):\n",
    "            cell_fw = tf.contrib.rnn.LSTMCell(rnn_size,\n",
    "                                              initializer=tf.random_uniform_initializer(-0.1, 0.1, seed=2))\n",
    "            cell_fw = tf.contrib.rnn.DropoutWrapper(cell_fw, \n",
    "                                                    input_keep_prob = keep_prob)\n",
    "\n",
    "            cell_bw = tf.contrib.rnn.LSTMCell(rnn_size,\n",
    "                                              initializer=tf.random_uniform_initializer(-0.1, 0.1, seed=2))\n",
    "            cell_bw = tf.contrib.rnn.DropoutWrapper(cell_bw, \n",
    "                                                    input_keep_prob = keep_prob)\n",
    "\n",
    "            enc_output, enc_state = tf.nn.bidirectional_dynamic_rnn(cell_fw, \n",
    "                                                                    cell_bw, \n",
    "                                                                    rnn_inputs,\n",
    "                                                                    sequence_length,\n",
    "                                                                    dtype=tf.float32)\n",
    "            enc_output = tf.concat(enc_output,2)\n",
    "            # original code is missing this line below, that is how we connect layers \n",
    "            # by feeding the current layer's output to next layer's input\n",
    "            rnn_inputs = enc_output\n",
    "    return enc_output, enc_state"
   ]
  },
  {
   "cell_type": "markdown",
   "metadata": {},
   "source": [
    "### Create the training decoding layer\n",
    "parameters\n",
    "- **dec_embed_input**: output of embedding_lookup for a batch of inputs\n",
    "- **summary_length**: length of each padded summary sequences in batch, since padded, all lengths should be same number \n",
    "- **dec_cell**: the decoder RNN cells' output with attention wapper\n",
    "- **output_layer**: fully connected layer to apply to the RNN output\n",
    "- **vocab_size**: vocabulary size i.e. len(vocab_to_int)+1\n",
    "- **max_summary_length**: the maximum length of a summary in a batch\n",
    "- **batch_size**: number of input sequences in a batch\n",
    "\n",
    "Three components\n",
    "\n",
    "- **TraingHelper** reads a sequence of integers from the encoding layer.\n",
    "- **BasicDecoder** processes the sequence with the decoding cell, and an output layer, which is a fully connected layer. **initial_state** set to zero state.\n",
    "- **dynamic_decode** creates our outputs that will be used for training."
   ]
  },
  {
   "cell_type": "code",
   "execution_count": 9,
   "metadata": {},
   "outputs": [],
   "source": [
    "def training_decoding_layer(dec_embed_input, summary_length, dec_cell, output_layer,\n",
    "                            vocab_size, max_summary_length,batch_size):\n",
    "    training_helper = tf.contrib.seq2seq.TrainingHelper(inputs=dec_embed_input,\n",
    "                                                        sequence_length=summary_length,\n",
    "                                                        time_major=False)\n",
    "\n",
    "    training_decoder = tf.contrib.seq2seq.BasicDecoder(cell=dec_cell,\n",
    "                                                       helper=training_helper,\n",
    "                                                       initial_state=dec_cell.zero_state(dtype=tf.float32, batch_size=batch_size),\n",
    "                                                       output_layer = output_layer)\n",
    "\n",
    "    training_logits = tf.contrib.seq2seq.dynamic_decode(training_decoder,\n",
    "                                                           output_time_major=False,\n",
    "                                                           impute_finished=True,\n",
    "                                                           maximum_iterations=max_summary_length)\n",
    "    return training_logits"
   ]
  },
  {
   "cell_type": "markdown",
   "metadata": {},
   "source": [
    "### Create infer decoding layer\n",
    "\n",
    "parameters\n",
    "- **embeddings**: the CN's word_embedding_matrix\n",
    "- **start_token**: the id of `<GO>`\n",
    "- **end_token**: the id of `<EOS>`\n",
    "- **dec_cell**: the decoder RNN cells' output with attention wapper\n",
    "- **output_layer**: fully connected layer to apply to the RNN output\n",
    "- **max_summary_length**: the maximum length of a summary in a batch\n",
    "- **batch_size**: number of input sequences in a batch\n",
    "\n",
    "**GreedyEmbeddingHelper** argument **start_tokens**: int32 vector shaped [batch_size], the start tokens."
   ]
  },
  {
   "cell_type": "code",
   "execution_count": 10,
   "metadata": {},
   "outputs": [],
   "source": [
    "def inference_decoding_layer(embeddings, start_token, end_token, dec_cell, output_layer,\n",
    "                             max_summary_length, batch_size):\n",
    "    '''Create the inference logits'''\n",
    "    \n",
    "    start_tokens = tf.tile(tf.constant([start_token], dtype=tf.int32), [batch_size], name='start_tokens')\n",
    "    \n",
    "    inference_helper = tf.contrib.seq2seq.GreedyEmbeddingHelper(embeddings,\n",
    "                                                                start_tokens,\n",
    "                                                                end_token)\n",
    "                \n",
    "    inference_decoder = tf.contrib.seq2seq.BasicDecoder(dec_cell,\n",
    "                                                        inference_helper,\n",
    "                                                        dec_cell.zero_state(dtype=tf.float32, batch_size=batch_size),\n",
    "                                                        output_layer)\n",
    "                \n",
    "    inference_logits = tf.contrib.seq2seq.dynamic_decode(inference_decoder,\n",
    "                                                            output_time_major=False,\n",
    "                                                            impute_finished=True,\n",
    "                                                            maximum_iterations=max_summary_length)\n",
    "    \n",
    "    return inference_logits"
   ]
  },
  {
   "cell_type": "markdown",
   "metadata": {},
   "source": [
    "### Create Decoding layer\n",
    "3 parts: decoding cell, attention, and getting our logits.\n",
    "#### Decoding Cell: \n",
    "Just a two layer LSTM with dropout.\n",
    "#### Attention: \n",
    "Using Bhadanau, since trains faster than Luong. \n",
    "\n",
    "**AttentionWrapper** applies the attention mechanism to our decoding cell.\n",
    "\n",
    "parameters\n",
    "- **dec_embed_input**: output of embedding_lookup for a batch of inputs\n",
    "- **embeddings**: the CN's word_embedding_matrix\n",
    "- **enc_output**: encoder layer output, containing the forward and the backward rnn output\n",
    "- **enc_state**: encoder layer state, a tuple containing the forward and the backward final states of bidirectional rnn.\n",
    "- **vocab_size**: vocabulary size i.e. len(vocab_to_int)+1\n",
    "- **text_length**: the actual lengths for each of the input text sequences in the batch\n",
    "- **summary_length**: the actual lengths for each of the input summary sequences in the batch\n",
    "- **max_summary_length**: the maximum length of a summary in a batch\n",
    "- **rnn_size**: The number of units in the LSTM cell\n",
    "- **vocab_to_int**: vocab_to_int the dictionary\n",
    "- **keep_prob**: RNN dropout input keep probability\n",
    "- **batch_size**: number of input sequences in a batch\n",
    "- **num_layers**: number of decoder RNN layer"
   ]
  },
  {
   "cell_type": "code",
   "execution_count": 11,
   "metadata": {},
   "outputs": [],
   "source": [
    "def lstm_cell(lstm_size, keep_prob):\n",
    "    cell = tf.contrib.rnn.BasicLSTMCell(lstm_size)\n",
    "    return tf.contrib.rnn.DropoutWrapper(cell, input_keep_prob = keep_prob)\n",
    "\n",
    "def decoding_layer(dec_embed_input, embeddings, enc_output, enc_state, vocab_size, text_length, summary_length,\n",
    "                   max_summary_length, rnn_size, vocab_to_int, keep_prob, batch_size, num_layers):\n",
    "    '''Create the decoding cell and attention for the training and inference decoding layers'''\n",
    "    dec_cell = tf.contrib.rnn.MultiRNNCell([lstm_cell(rnn_size, keep_prob) for _ in range(num_layers)])\n",
    "    output_layer = Dense(vocab_size,kernel_initializer=tf.truncated_normal_initializer(mean=0.0, stddev=0.1))\n",
    "    attn_mech = tf.contrib.seq2seq.BahdanauAttention(rnn_size,\n",
    "                                                     enc_output,\n",
    "                                                     text_length,\n",
    "                                                     normalize=False,\n",
    "                                                     name='BahdanauAttention')\n",
    "    dec_cell = tf.contrib.seq2seq.AttentionWrapper(dec_cell,attn_mech,rnn_size)\n",
    "    with tf.variable_scope(\"decode\"):\n",
    "        training_logits = training_decoding_layer(dec_embed_input,summary_length,dec_cell,\n",
    "                                                  output_layer,\n",
    "                                                  vocab_size,\n",
    "                                                  max_summary_length,\n",
    "                                                  batch_size)\n",
    "    with tf.variable_scope(\"decode\", reuse=True):\n",
    "        inference_logits = inference_decoding_layer(embeddings,\n",
    "                                                    vocab_to_int['<GO>'],\n",
    "                                                    vocab_to_int['<EOS>'],\n",
    "                                                    dec_cell,\n",
    "                                                    output_layer,\n",
    "                                                    max_summary_length,\n",
    "                                                    batch_size)\n",
    "    return training_logits, inference_logits"
   ]
  },
  {
   "cell_type": "code",
   "execution_count": 12,
   "metadata": {},
   "outputs": [],
   "source": [
    "def seq2seq_model(input_data, target_data, keep_prob, text_length, summary_length, max_summary_length, \n",
    "                  vocab_size, rnn_size, num_layers, vocab_to_int, batch_size):\n",
    "    '''Use the previous functions to create the training and inference logits'''\n",
    "    \n",
    "    # Use Numberbatch's embeddings and the newly created ones as our embeddings\n",
    "    embeddings = word_embedding_matrix\n",
    "    enc_embed_input = tf.nn.embedding_lookup(embeddings, input_data)\n",
    "    enc_output, enc_state = encoding_layer(rnn_size, text_length, num_layers, enc_embed_input, keep_prob)\n",
    "    dec_input = process_encoding_input(target_data, vocab_to_int, batch_size) #shape=(batch_size, senquence length) each seq start with index of<GO>\n",
    "    dec_embed_input = tf.nn.embedding_lookup(embeddings, dec_input)\n",
    "    training_logits, inference_logits  = decoding_layer(dec_embed_input, \n",
    "                                                        embeddings,\n",
    "                                                        enc_output,\n",
    "                                                        enc_state, \n",
    "                                                        vocab_size, \n",
    "                                                        text_length, \n",
    "                                                        summary_length, \n",
    "                                                        max_summary_length,\n",
    "                                                        rnn_size, \n",
    "                                                        vocab_to_int, \n",
    "                                                        keep_prob, \n",
    "                                                        batch_size,\n",
    "                                                        num_layers)\n",
    "    return training_logits, inference_logits"
   ]
  },
  {
   "cell_type": "markdown",
   "metadata": {},
   "source": [
    "### Pad sentences for batch\n",
    "Pad so the actual lengths for each of the sequences in the batch have the same length."
   ]
  },
  {
   "cell_type": "code",
   "execution_count": 13,
   "metadata": {},
   "outputs": [],
   "source": [
    "def pad_sentence_batch(sentence_batch):\n",
    "    \"\"\"Pad sentences with <PAD> so that each sentence of a batch has the same length\"\"\"\n",
    "    max_sentence = max([len(sentence) for sentence in sentence_batch])\n",
    "    return [sentence + [vocab_to_int['<PAD>']] * (max_sentence - len(sentence)) for sentence in sentence_batch]"
   ]
  },
  {
   "cell_type": "markdown",
   "metadata": {},
   "source": [
    "### Function to generate batch data for training"
   ]
  },
  {
   "cell_type": "code",
   "execution_count": 14,
   "metadata": {},
   "outputs": [],
   "source": [
    "def get_batches(summaries, texts, batch_size):\n",
    "    \"\"\"Batch summaries, texts, and the lengths of their sentences together\"\"\"\n",
    "    for batch_i in range(0, len(texts)//batch_size):\n",
    "        start_i = batch_i * batch_size\n",
    "        summaries_batch = summaries[start_i:start_i + batch_size]\n",
    "        texts_batch = texts[start_i:start_i + batch_size]\n",
    "        pad_summaries_batch = np.array(pad_sentence_batch(summaries_batch))\n",
    "        pad_texts_batch = np.array(pad_sentence_batch(texts_batch))\n",
    "        \n",
    "        # Need the lengths for the _lengths parameters\n",
    "        pad_summaries_lengths = []\n",
    "        for summary in pad_summaries_batch:\n",
    "            pad_summaries_lengths.append(len(summary))\n",
    "        \n",
    "        pad_texts_lengths = []\n",
    "        for text in pad_texts_batch:\n",
    "            pad_texts_lengths.append(len(text))\n",
    "        \n",
    "        yield pad_summaries_batch, pad_texts_batch, pad_summaries_lengths, pad_texts_lengths"
   ]
  },
  {
   "cell_type": "markdown",
   "metadata": {},
   "source": [
    "#### Just to test \"get_batches\" function\n",
    "Here we generate a batch with size of 5\n",
    "\n",
    "Checkout those \"59069\" they are `<PAD>`s, also all sequences' lengths are the same."
   ]
  },
  {
   "cell_type": "code",
   "execution_count": 15,
   "metadata": {},
   "outputs": [
    {
     "name": "stdout",
     "output_type": "stream",
     "text": [
      "'<PAD>' has id: 64158\n",
      "pad summaries batch samples:\n",
      "\r",
      " [[25492 12366  4847 16419 64158 64158 64158 64158 64158 64158]\n",
      " [ 1591 27008 25116 12934 10752  2244 14021 61248 40295  2239]\n",
      " [59774 34421 14021 34470 54988 14182 18559 37913 24535 64158]\n",
      " [61248  9974 64158 64158 64158 64158 64158 64158 64158 64158]\n",
      " [61248 14021 25066 64158 64158 64158 64158 64158 64158 64158]]\n"
     ]
    }
   ],
   "source": [
    "print(\"'<PAD>' has id: {}\".format(vocab_to_int['<PAD>']))\n",
    "sorted_summaries_samples = sorted_summaries[7:50]\n",
    "sorted_texts_samples = sorted_texts[7:50]\n",
    "pad_summaries_batch_samples, pad_texts_batch_samples, pad_summaries_lengths_samples, pad_texts_lengths_samples = next(get_batches(\n",
    "    sorted_summaries_samples, sorted_texts_samples, 5))\n",
    "print(\"pad summaries batch samples:\\n\\r {}\".format(pad_summaries_batch_samples))"
   ]
  },
  {
   "cell_type": "code",
   "execution_count": 25,
   "metadata": {},
   "outputs": [],
   "source": [
    "# Set the Hyperparameters\n",
    "epochs = 100\n",
    "batch_size = 64\n",
    "rnn_size = 256\n",
    "num_layers = 2\n",
    "learning_rate = 0.005\n",
    "keep_probability = 0.95"
   ]
  },
  {
   "cell_type": "markdown",
   "metadata": {},
   "source": [
    "## Build graph"
   ]
  },
  {
   "cell_type": "code",
   "execution_count": 17,
   "metadata": {},
   "outputs": [
    {
     "name": "stdout",
     "output_type": "stream",
     "text": [
      "WARNING:tensorflow:From <ipython-input-11-e5ed514e649b>:2: __init__ (from tensorflow.python.ops.rnn_cell_impl) is deprecated and will be removed in a future version.\n",
      "Instructions for updating:\n",
      "This class is deprecated, please use tf.nn.rnn_cell.LSTMCell, which supports all the feature this cell currently has. Please replace the existing code with tf.nn.rnn_cell.LSTMCell(name='basic_lstm_cell').\n",
      "Graph is built.\n",
      "./graph\n"
     ]
    }
   ],
   "source": [
    "# Build the graph\n",
    "train_graph = tf.Graph()\n",
    "# Set the graph to default to ensure that it is ready for training\n",
    "with train_graph.as_default():\n",
    "    \n",
    "    # Load the model inputs    \n",
    "    input_data, targets, lr, keep_prob, summary_length, max_summary_length, text_length = model_inputs()\n",
    "\n",
    "    # Create the training and inference logits\n",
    "    training_logits, inference_logits = seq2seq_model(tf.reverse(input_data, [-1]),\n",
    "                                                      targets, \n",
    "                                                      keep_prob,   \n",
    "                                                      text_length,\n",
    "                                                      summary_length,\n",
    "                                                      max_summary_length,\n",
    "                                                      len(vocab_to_int)+1,\n",
    "                                                      rnn_size, \n",
    "                                                      num_layers, \n",
    "                                                      vocab_to_int,\n",
    "                                                      batch_size)\n",
    "    \n",
    "    # Create tensors for the training logits and inference logits\n",
    "    training_logits = tf.identity(training_logits[0].rnn_output, 'logits')\n",
    "    inference_logits = tf.identity(inference_logits[0].sample_id, name='predictions')\n",
    "    \n",
    "    # Create the weights for sequence_loss, the sould be all True across since each batch is padded\n",
    "    masks = tf.sequence_mask(summary_length, max_summary_length, dtype=tf.float32, name='masks')\n",
    "\n",
    "    with tf.name_scope(\"optimization\"):\n",
    "        # Loss function\n",
    "        cost = tf.contrib.seq2seq.sequence_loss(\n",
    "            training_logits,\n",
    "            targets,\n",
    "            masks)\n",
    "\n",
    "        # Optimizer\n",
    "        optimizer = tf.train.AdamOptimizer(learning_rate)\n",
    "\n",
    "        # Gradient Clipping\n",
    "        gradients = optimizer.compute_gradients(cost)\n",
    "        capped_gradients = [(tf.clip_by_value(grad, -5., 5.), var) for grad, var in gradients if grad is not None]\n",
    "        train_op = optimizer.apply_gradients(capped_gradients)\n",
    "print(\"Graph is built.\")\n",
    "graph_location = \"./graph\"\n",
    "print(graph_location)\n",
    "train_writer = tf.summary.FileWriter(graph_location)\n",
    "train_writer.add_graph(train_graph)"
   ]
  },
  {
   "cell_type": "markdown",
   "metadata": {},
   "source": [
    "## 4. Training the Model\n",
    "\n",
    "Only going to use a subset of the data to reduce the traing time for this demo.\n",
    "\n",
    "We chose not use use the start of the subset because because those are shorter sequences and we don't want to make it too easy for the model."
   ]
  },
  {
   "cell_type": "code",
   "execution_count": 18,
   "metadata": {},
   "outputs": [
    {
     "name": "stdout",
     "output_type": "stream",
     "text": [
      "('The shortest text length:', 25)\n",
      "('The longest text length:', 31)\n"
     ]
    }
   ],
   "source": [
    "# Subset the data for training\n",
    "start = 200000\n",
    "end = start + 50000\n",
    "sorted_summaries_short = sorted_summaries[start:end]\n",
    "sorted_texts_short = sorted_texts[start:end]\n",
    "print(\"The shortest text length:\", len(sorted_texts_short[0]))\n",
    "print(\"The longest text length:\",len(sorted_texts_short[-1]))"
   ]
  },
  {
   "cell_type": "code",
   "execution_count": 19,
   "metadata": {
    "scrolled": true
   },
   "outputs": [
    {
     "name": "stdout",
     "output_type": "stream",
     "text": [
      "Epoch   1/100 Batch   20/781 - Loss:  5.416, Seconds: 101.43\n",
      "Epoch   1/100 Batch   40/781 - Loss:  2.838, Seconds: 99.88\n",
      "Epoch   1/100 Batch   60/781 - Loss:  2.896, Seconds: 85.56\n",
      "Epoch   1/100 Batch   80/781 - Loss:  2.682, Seconds: 91.69\n",
      "Epoch   1/100 Batch  100/781 - Loss:  2.797, Seconds: 105.15\n",
      "Epoch   1/100 Batch  120/781 - Loss:  2.774, Seconds: 83.96\n",
      "Epoch   1/100 Batch  140/781 - Loss:  2.611, Seconds: 94.02\n",
      "Epoch   1/100 Batch  160/781 - Loss:  2.621, Seconds: 107.11\n",
      "Epoch   1/100 Batch  180/781 - Loss:  2.643, Seconds: 94.80\n",
      "Epoch   1/100 Batch  200/781 - Loss:  2.599, Seconds: 92.26\n",
      "Epoch   1/100 Batch  220/781 - Loss:  2.571, Seconds: 103.42\n",
      "Epoch   1/100 Batch  240/781 - Loss:  2.619, Seconds: 102.07\n",
      "('Average loss for this update:', 2.894)\n",
      "New Record!\n",
      "Epoch   1/100 Batch  260/781 - Loss:  2.536, Seconds: 85.27\n",
      "Epoch   1/100 Batch  280/781 - Loss:  2.422, Seconds: 82.61\n",
      "Epoch   1/100 Batch  300/781 - Loss:  2.404, Seconds: 77.70\n",
      "Epoch   1/100 Batch  320/781 - Loss:  2.470, Seconds: 106.22\n",
      "Epoch   1/100 Batch  340/781 - Loss:  2.647, Seconds: 87.68\n",
      "Epoch   1/100 Batch  360/781 - Loss:  2.600, Seconds: 97.94\n",
      "Epoch   1/100 Batch  380/781 - Loss:  2.474, Seconds: 89.32\n",
      "Epoch   1/100 Batch  400/781 - Loss:  2.429, Seconds: 103.78\n",
      "Epoch   1/100 Batch  420/781 - Loss:  2.277, Seconds: 103.51\n",
      "Epoch   1/100 Batch  440/781 - Loss:  2.420, Seconds: 100.19\n",
      "Epoch   1/100 Batch  460/781 - Loss:  2.392, Seconds: 82.12\n",
      "Epoch   1/100 Batch  480/781 - Loss:  2.498, Seconds: 76.43\n",
      "Epoch   1/100 Batch  500/781 - Loss:  2.425, Seconds: 106.40\n",
      "('Average loss for this update:', 2.447)\n",
      "New Record!\n",
      "Epoch   1/100 Batch  520/781 - Loss:  2.351, Seconds: 92.02\n",
      "Epoch   1/100 Batch  540/781 - Loss:  2.336, Seconds: 89.86\n",
      "Epoch   1/100 Batch  560/781 - Loss:  2.313, Seconds: 100.16\n",
      "Epoch   1/100 Batch  580/781 - Loss:  2.363, Seconds: 86.18\n",
      "Epoch   1/100 Batch  600/781 - Loss:  2.294, Seconds: 95.41\n",
      "Epoch   1/100 Batch  620/781 - Loss:  2.512, Seconds: 89.74\n",
      "Epoch   1/100 Batch  640/781 - Loss:  2.540, Seconds: 88.59\n",
      "Epoch   1/100 Batch  660/781 - Loss:  2.398, Seconds: 108.07\n",
      "Epoch   1/100 Batch  680/781 - Loss:  2.320, Seconds: 94.94\n",
      "Epoch   1/100 Batch  700/781 - Loss:  2.293, Seconds: 95.43\n",
      "Epoch   1/100 Batch  720/781 - Loss:  2.097, Seconds: 101.71\n",
      "Epoch   1/100 Batch  740/781 - Loss:  2.347, Seconds: 96.03\n",
      "Epoch   1/100 Batch  760/781 - Loss:  2.498, Seconds: 99.85\n",
      "('Average loss for this update:', 2.365)\n",
      "New Record!\n",
      "Epoch   1/100 Batch  780/781 - Loss:  2.396, Seconds: 90.46\n",
      "Epoch   2/100 Batch   20/781 - Loss:  2.368, Seconds: 100.85\n",
      "Epoch   2/100 Batch   40/781 - Loss:  2.128, Seconds: 96.08\n",
      "Epoch   2/100 Batch   60/781 - Loss:  2.268, Seconds: 87.72\n",
      "Epoch   2/100 Batch   80/781 - Loss:  2.114, Seconds: 93.38\n",
      "Epoch   2/100 Batch  100/781 - Loss:  2.217, Seconds: 94.09\n",
      "Epoch   2/100 Batch  120/781 - Loss:  2.202, Seconds: 86.05\n",
      "Epoch   2/100 Batch  140/781 - Loss:  2.034, Seconds: 93.31\n",
      "Epoch   2/100 Batch  160/781 - Loss:  2.090, Seconds: 102.45\n",
      "Epoch   2/100 Batch  180/781 - Loss:  2.038, Seconds: 97.23\n",
      "Epoch   2/100 Batch  200/781 - Loss:  2.133, Seconds: 91.98\n",
      "Epoch   2/100 Batch  220/781 - Loss:  2.084, Seconds: 103.43\n",
      "Epoch   2/100 Batch  240/781 - Loss:  2.152, Seconds: 99.32\n",
      "('Average loss for this update:', 2.144)\n",
      "New Record!\n",
      "Epoch   2/100 Batch  260/781 - Loss:  2.052, Seconds: 84.61\n",
      "Epoch   2/100 Batch  280/781 - Loss:  1.913, Seconds: 85.01\n",
      "Epoch   2/100 Batch  300/781 - Loss:  1.922, Seconds: 78.77\n",
      "Epoch   2/100 Batch  320/781 - Loss:  1.955, Seconds: 103.54\n",
      "Epoch   2/100 Batch  340/781 - Loss:  2.204, Seconds: 84.69\n",
      "Epoch   2/100 Batch  360/781 - Loss:  2.193, Seconds: 99.09\n",
      "Epoch   2/100 Batch  380/781 - Loss:  2.074, Seconds: 93.34\n",
      "Epoch   2/100 Batch  400/781 - Loss:  2.028, Seconds: 104.18\n",
      "Epoch   2/100 Batch  420/781 - Loss:  1.865, Seconds: 105.56\n",
      "Epoch   2/100 Batch  440/781 - Loss:  1.998, Seconds: 100.29\n",
      "Epoch   2/100 Batch  460/781 - Loss:  1.953, Seconds: 80.63\n",
      "Epoch   2/100 Batch  480/781 - Loss:  2.132, Seconds: 82.18\n",
      "Epoch   2/100 Batch  500/781 - Loss:  2.049, Seconds: 102.03\n",
      "('Average loss for this update:', 2.02)\n",
      "New Record!\n",
      "Epoch   2/100 Batch  520/781 - Loss:  1.975, Seconds: 91.10\n",
      "Epoch   2/100 Batch  540/781 - Loss:  1.962, Seconds: 94.71\n",
      "Epoch   2/100 Batch  560/781 - Loss:  1.893, Seconds: 97.99\n",
      "Epoch   2/100 Batch  580/781 - Loss:  1.973, Seconds: 84.53\n",
      "Epoch   2/100 Batch  600/781 - Loss:  1.863, Seconds: 91.77\n",
      "Epoch   2/100 Batch  620/781 - Loss:  2.175, Seconds: 88.00\n",
      "Epoch   2/100 Batch  640/781 - Loss:  2.164, Seconds: 87.01\n",
      "Epoch   2/100 Batch  660/781 - Loss:  2.035, Seconds: 104.40\n",
      "Epoch   2/100 Batch  680/781 - Loss:  1.943, Seconds: 92.13\n",
      "Epoch   2/100 Batch  700/781 - Loss:  1.892, Seconds: 92.85\n",
      "Epoch   2/100 Batch  720/781 - Loss:  1.762, Seconds: 106.08\n",
      "Epoch   2/100 Batch  740/781 - Loss:  2.017, Seconds: 93.24\n",
      "Epoch   2/100 Batch  760/781 - Loss:  2.195, Seconds: 101.95\n",
      "('Average loss for this update:', 1.999)\n",
      "New Record!\n",
      "Epoch   2/100 Batch  780/781 - Loss:  2.084, Seconds: 88.89\n",
      "Epoch   3/100 Batch   20/781 - Loss:  2.151, Seconds: 101.02\n",
      "Epoch   3/100 Batch   40/781 - Loss:  1.897, Seconds: 96.37\n",
      "Epoch   3/100 Batch   60/781 - Loss:  1.997, Seconds: 85.97\n",
      "Epoch   3/100 Batch   80/781 - Loss:  1.874, Seconds: 90.44\n",
      "Epoch   3/100 Batch  100/781 - Loss:  1.936, Seconds: 96.68\n",
      "Epoch   3/100 Batch  120/781 - Loss:  1.941, Seconds: 85.47\n",
      "Epoch   3/100 Batch  140/781 - Loss:  1.748, Seconds: 89.77\n",
      "Epoch   3/100 Batch  160/781 - Loss:  1.836, Seconds: 101.01\n",
      "Epoch   3/100 Batch  180/781 - Loss:  1.770, Seconds: 97.76\n",
      "Epoch   3/100 Batch  200/781 - Loss:  1.915, Seconds: 93.22\n",
      "Epoch   3/100 Batch  220/781 - Loss:  1.823, Seconds: 105.55\n",
      "Epoch   3/100 Batch  240/781 - Loss:  1.901, Seconds: 100.65\n",
      "('Average loss for this update:', 1.891)\n",
      "New Record!\n",
      "Epoch   3/100 Batch  260/781 - Loss:  1.797, Seconds: 88.79\n",
      "Epoch   3/100 Batch  280/781 - Loss:  1.637, Seconds: 83.98\n",
      "Epoch   3/100 Batch  300/781 - Loss:  1.686, Seconds: 79.72\n",
      "Epoch   3/100 Batch  320/781 - Loss:  1.718, Seconds: 102.02\n",
      "Epoch   3/100 Batch  340/781 - Loss:  1.960, Seconds: 87.58\n",
      "Epoch   3/100 Batch  360/781 - Loss:  1.958, Seconds: 99.96\n",
      "Epoch   3/100 Batch  380/781 - Loss:  1.835, Seconds: 93.70\n",
      "Epoch   3/100 Batch  400/781 - Loss:  1.796, Seconds: 109.71\n",
      "Epoch   3/100 Batch  420/781 - Loss:  1.636, Seconds: 106.76\n",
      "Epoch   3/100 Batch  440/781 - Loss:  1.774, Seconds: 101.00\n",
      "Epoch   3/100 Batch  460/781 - Loss:  1.714, Seconds: 80.40\n",
      "Epoch   3/100 Batch  480/781 - Loss:  1.909, Seconds: 84.07\n",
      "Epoch   3/100 Batch  500/781 - Loss:  1.825, Seconds: 106.34\n",
      "('Average loss for this update:', 1.784)\n",
      "New Record!\n",
      "Epoch   3/100 Batch  520/781 - Loss:  1.743, Seconds: 90.51\n",
      "Epoch   3/100 Batch  540/781 - Loss:  1.727, Seconds: 96.08\n",
      "Epoch   3/100 Batch  560/781 - Loss:  1.650, Seconds: 99.21\n",
      "Epoch   3/100 Batch  580/781 - Loss:  1.754, Seconds: 85.93\n",
      "Epoch   3/100 Batch  600/781 - Loss:  1.632, Seconds: 92.77\n",
      "Epoch   3/100 Batch  620/781 - Loss:  1.975, Seconds: 86.24\n",
      "Epoch   3/100 Batch  640/781 - Loss:  1.943, Seconds: 87.09\n",
      "Epoch   3/100 Batch  660/781 - Loss:  1.811, Seconds: 104.10\n",
      "Epoch   3/100 Batch  680/781 - Loss:  1.727, Seconds: 92.26\n",
      "Epoch   3/100 Batch  700/781 - Loss:  1.657, Seconds: 93.23\n",
      "Epoch   3/100 Batch  720/781 - Loss:  1.560, Seconds: 107.63\n",
      "Epoch   3/100 Batch  740/781 - Loss:  1.826, Seconds: 94.88\n",
      "Epoch   3/100 Batch  760/781 - Loss:  2.021, Seconds: 102.97\n",
      "('Average loss for this update:', 1.784)\n",
      "No Improvement.\n",
      "Epoch   3/100 Batch  780/781 - Loss:  1.894, Seconds: 86.73\n",
      "Epoch   4/100 Batch   20/781 - Loss:  2.019, Seconds: 104.22\n",
      "Epoch   4/100 Batch   40/781 - Loss:  1.737, Seconds: 97.18\n",
      "Epoch   4/100 Batch   60/781 - Loss:  1.817, Seconds: 86.33\n",
      "Epoch   4/100 Batch   80/781 - Loss:  1.711, Seconds: 87.51\n",
      "Epoch   4/100 Batch  100/781 - Loss:  1.741, Seconds: 98.47\n",
      "Epoch   4/100 Batch  120/781 - Loss:  1.766, Seconds: 84.89\n",
      "Epoch   4/100 Batch  140/781 - Loss:  1.564, Seconds: 90.12\n",
      "Epoch   4/100 Batch  160/781 - Loss:  1.645, Seconds: 105.16\n",
      "Epoch   4/100 Batch  180/781 - Loss:  1.603, Seconds: 99.47\n",
      "Epoch   4/100 Batch  200/781 - Loss:  1.744, Seconds: 92.00\n",
      "Epoch   4/100 Batch  220/781 - Loss:  1.672, Seconds: 103.82\n"
     ]
    },
    {
     "name": "stdout",
     "output_type": "stream",
     "text": [
      "Epoch   4/100 Batch  240/781 - Loss:  1.702, Seconds: 101.49\n",
      "('Average loss for this update:', 1.72)\n",
      "New Record!\n",
      "Epoch   4/100 Batch  260/781 - Loss:  1.636, Seconds: 83.39\n",
      "Epoch   4/100 Batch  280/781 - Loss:  1.464, Seconds: 85.63\n",
      "Epoch   4/100 Batch  300/781 - Loss:  1.523, Seconds: 80.30\n",
      "Epoch   4/100 Batch  320/781 - Loss:  1.557, Seconds: 108.60\n",
      "Epoch   4/100 Batch  340/781 - Loss:  1.789, Seconds: 82.84\n",
      "Epoch   4/100 Batch  360/781 - Loss:  1.779, Seconds: 96.60\n",
      "Epoch   4/100 Batch  380/781 - Loss:  1.682, Seconds: 95.30\n",
      "Epoch   4/100 Batch  400/781 - Loss:  1.643, Seconds: 103.05\n",
      "Epoch   4/100 Batch  420/781 - Loss:  1.490, Seconds: 107.01\n",
      "Epoch   4/100 Batch  440/781 - Loss:  1.613, Seconds: 96.73\n",
      "Epoch   4/100 Batch  460/781 - Loss:  1.558, Seconds: 77.98\n",
      "Epoch   4/100 Batch  480/781 - Loss:  1.738, Seconds: 80.07\n",
      "Epoch   4/100 Batch  500/781 - Loss:  1.654, Seconds: 105.40\n",
      "('Average loss for this update:', 1.621)\n",
      "New Record!\n",
      "Epoch   4/100 Batch  520/781 - Loss:  1.577, Seconds: 93.67\n",
      "Epoch   4/100 Batch  540/781 - Loss:  1.573, Seconds: 93.46\n",
      "Epoch   4/100 Batch  560/781 - Loss:  1.480, Seconds: 101.26\n",
      "Epoch   4/100 Batch  580/781 - Loss:  1.599, Seconds: 86.92\n",
      "Epoch   4/100 Batch  600/781 - Loss:  1.481, Seconds: 97.76\n",
      "Epoch   4/100 Batch  620/781 - Loss:  1.821, Seconds: 87.07\n",
      "Epoch   4/100 Batch  640/781 - Loss:  1.776, Seconds: 88.49\n",
      "Epoch   4/100 Batch  660/781 - Loss:  1.644, Seconds: 106.30\n",
      "Epoch   4/100 Batch  680/781 - Loss:  1.577, Seconds: 93.47\n",
      "Epoch   4/100 Batch  700/781 - Loss:  1.496, Seconds: 93.53\n",
      "Epoch   4/100 Batch  720/781 - Loss:  1.434, Seconds: 112.35\n",
      "Epoch   4/100 Batch  740/781 - Loss:  1.689, Seconds: 91.86\n",
      "Epoch   4/100 Batch  760/781 - Loss:  1.875, Seconds: 99.42\n",
      "('Average loss for this update:', 1.631)\n",
      "No Improvement.\n",
      "Epoch   4/100 Batch  780/781 - Loss:  1.747, Seconds: 90.33\n",
      "Epoch   5/100 Batch   20/781 - Loss:  1.906, Seconds: 103.88\n",
      "Epoch   5/100 Batch   40/781 - Loss:  1.619, Seconds: 98.63\n",
      "Epoch   5/100 Batch   60/781 - Loss:  1.677, Seconds: 83.24\n",
      "Epoch   5/100 Batch   80/781 - Loss:  1.596, Seconds: 88.66\n",
      "Epoch   5/100 Batch  100/781 - Loss:  1.615, Seconds: 94.99\n",
      "Epoch   5/100 Batch  120/781 - Loss:  1.626, Seconds: 86.35\n",
      "Epoch   5/100 Batch  140/781 - Loss:  1.441, Seconds: 89.55\n",
      "Epoch   5/100 Batch  160/781 - Loss:  1.528, Seconds: 101.47\n",
      "Epoch   5/100 Batch  180/781 - Loss:  1.498, Seconds: 98.51\n",
      "Epoch   5/100 Batch  200/781 - Loss:  1.613, Seconds: 91.52\n",
      "Epoch   5/100 Batch  220/781 - Loss:  1.545, Seconds: 108.70\n",
      "Epoch   5/100 Batch  240/781 - Loss:  1.569, Seconds: 96.51\n",
      "('Average loss for this update:', 1.597)\n",
      "New Record!\n",
      "Epoch   5/100 Batch  260/781 - Loss:  1.523, Seconds: 87.12\n",
      "Epoch   5/100 Batch  280/781 - Loss:  1.339, Seconds: 86.55\n",
      "Epoch   5/100 Batch  300/781 - Loss:  1.398, Seconds: 79.33\n",
      "Epoch   5/100 Batch  320/781 - Loss:  1.433, Seconds: 104.69\n",
      "Epoch   5/100 Batch  340/781 - Loss:  1.665, Seconds: 87.40\n",
      "Epoch   5/100 Batch  360/781 - Loss:  1.651, Seconds: 101.31\n",
      "Epoch   5/100 Batch  380/781 - Loss:  1.561, Seconds: 93.01\n",
      "Epoch   5/100 Batch  400/781 - Loss:  1.518, Seconds: 107.71\n",
      "Epoch   5/100 Batch  420/781 - Loss:  1.374, Seconds: 104.47\n",
      "Epoch   5/100 Batch  440/781 - Loss:  1.492, Seconds: 97.12\n",
      "Epoch   5/100 Batch  460/781 - Loss:  1.422, Seconds: 76.77\n",
      "Epoch   5/100 Batch  480/781 - Loss:  1.614, Seconds: 82.68\n",
      "Epoch   5/100 Batch  500/781 - Loss:  1.535, Seconds: 106.49\n",
      "('Average loss for this update:', 1.497)\n",
      "New Record!\n",
      "Epoch   5/100 Batch  520/781 - Loss:  1.458, Seconds: 95.10\n",
      "Epoch   5/100 Batch  540/781 - Loss:  1.456, Seconds: 95.07\n",
      "Epoch   5/100 Batch  560/781 - Loss:  1.362, Seconds: 99.34\n",
      "Epoch   5/100 Batch  580/781 - Loss:  1.487, Seconds: 88.34\n",
      "Epoch   5/100 Batch  600/781 - Loss:  1.360, Seconds: 94.35\n",
      "Epoch   5/100 Batch  620/781 - Loss:  1.689, Seconds: 89.63\n",
      "Epoch   5/100 Batch  640/781 - Loss:  1.650, Seconds: 85.23\n",
      "Epoch   5/100 Batch  660/781 - Loss:  1.518, Seconds: 108.12\n",
      "Epoch   5/100 Batch  680/781 - Loss:  1.445, Seconds: 94.85\n",
      "Epoch   5/100 Batch  700/781 - Loss:  1.363, Seconds: 96.00\n",
      "Epoch   5/100 Batch  720/781 - Loss:  1.321, Seconds: 107.63\n",
      "Epoch   5/100 Batch  740/781 - Loss:  1.573, Seconds: 95.51\n",
      "Epoch   5/100 Batch  760/781 - Loss:  1.766, Seconds: 93.74\n",
      "('Average loss for this update:', 1.51)\n",
      "No Improvement.\n",
      "Epoch   5/100 Batch  780/781 - Loss:  1.625, Seconds: 85.66\n",
      "Epoch   6/100 Batch   20/781 - Loss:  1.800, Seconds: 104.86\n",
      "Epoch   6/100 Batch   40/781 - Loss:  1.507, Seconds: 95.64\n",
      "Epoch   6/100 Batch   60/781 - Loss:  1.570, Seconds: 83.06\n",
      "Epoch   6/100 Batch   80/781 - Loss:  1.492, Seconds: 94.48\n",
      "Epoch   6/100 Batch  100/781 - Loss:  1.506, Seconds: 99.26\n",
      "Epoch   6/100 Batch  120/781 - Loss:  1.519, Seconds: 83.77\n",
      "Epoch   6/100 Batch  140/781 - Loss:  1.329, Seconds: 91.97\n",
      "Epoch   6/100 Batch  160/781 - Loss:  1.422, Seconds: 101.51\n",
      "Epoch   6/100 Batch  180/781 - Loss:  1.418, Seconds: 98.34\n",
      "Epoch   6/100 Batch  200/781 - Loss:  1.499, Seconds: 91.25\n",
      "Epoch   6/100 Batch  220/781 - Loss:  1.459, Seconds: 102.68\n",
      "Epoch   6/100 Batch  240/781 - Loss:  1.461, Seconds: 100.06\n",
      "('Average loss for this update:', 1.492)\n",
      "New Record!\n",
      "Epoch   6/100 Batch  260/781 - Loss:  1.416, Seconds: 86.66\n",
      "Epoch   6/100 Batch  280/781 - Loss:  1.237, Seconds: 83.13\n",
      "Epoch   6/100 Batch  300/781 - Loss:  1.311, Seconds: 79.95\n",
      "Epoch   6/100 Batch  320/781 - Loss:  1.326, Seconds: 105.43\n",
      "Epoch   6/100 Batch  340/781 - Loss:  1.558, Seconds: 85.08\n",
      "Epoch   6/100 Batch  360/781 - Loss:  1.549, Seconds: 99.62\n",
      "Epoch   6/100 Batch  380/781 - Loss:  1.453, Seconds: 92.31\n",
      "Epoch   6/100 Batch  400/781 - Loss:  1.427, Seconds: 107.81\n",
      "Epoch   6/100 Batch  420/781 - Loss:  1.276, Seconds: 105.17\n",
      "Epoch   6/100 Batch  440/781 - Loss:  1.385, Seconds: 100.26\n",
      "Epoch   6/100 Batch  460/781 - Loss:  1.323, Seconds: 78.28\n",
      "Epoch   6/100 Batch  480/781 - Loss:  1.507, Seconds: 80.17\n",
      "Epoch   6/100 Batch  500/781 - Loss:  1.448, Seconds: 108.03\n",
      "('Average loss for this update:', 1.398)\n",
      "New Record!\n",
      "Epoch   6/100 Batch  520/781 - Loss:  1.368, Seconds: 89.46\n",
      "Epoch   6/100 Batch  540/781 - Loss:  1.375, Seconds: 94.73\n",
      "Epoch   6/100 Batch  560/781 - Loss:  1.267, Seconds: 96.11\n",
      "Epoch   6/100 Batch  580/781 - Loss:  1.392, Seconds: 86.66\n",
      "Epoch   6/100 Batch  600/781 - Loss:  1.261, Seconds: 94.48\n",
      "Epoch   6/100 Batch  620/781 - Loss:  1.584, Seconds: 90.38\n",
      "Epoch   6/100 Batch  640/781 - Loss:  1.543, Seconds: 87.48\n",
      "Epoch   6/100 Batch  660/781 - Loss:  1.415, Seconds: 107.38\n",
      "Epoch   6/100 Batch  680/781 - Loss:  1.365, Seconds: 94.90\n",
      "Epoch   6/100 Batch  700/781 - Loss:  1.284, Seconds: 92.12\n",
      "Epoch   6/100 Batch  720/781 - Loss:  1.241, Seconds: 107.24\n",
      "Epoch   6/100 Batch  740/781 - Loss:  1.480, Seconds: 94.70\n",
      "Epoch   6/100 Batch  760/781 - Loss:  1.656, Seconds: 101.42\n",
      "('Average loss for this update:', 1.416)\n",
      "No Improvement.\n",
      "Epoch   6/100 Batch  780/781 - Loss:  1.533, Seconds: 89.35\n",
      "Epoch   7/100 Batch   20/781 - Loss:  1.728, Seconds: 105.26\n",
      "Epoch   7/100 Batch   40/781 - Loss:  1.437, Seconds: 96.38\n",
      "Epoch   7/100 Batch   60/781 - Loss:  1.499, Seconds: 83.21\n",
      "Epoch   7/100 Batch   80/781 - Loss:  1.423, Seconds: 91.70\n",
      "Epoch   7/100 Batch  100/781 - Loss:  1.408, Seconds: 98.79\n",
      "Epoch   7/100 Batch  120/781 - Loss:  1.428, Seconds: 83.61\n",
      "Epoch   7/100 Batch  140/781 - Loss:  1.245, Seconds: 91.46\n",
      "Epoch   7/100 Batch  160/781 - Loss:  1.339, Seconds: 104.80\n",
      "Epoch   7/100 Batch  180/781 - Loss:  1.322, Seconds: 94.68\n",
      "Epoch   7/100 Batch  200/781 - Loss:  1.428, Seconds: 89.63\n",
      "Epoch   7/100 Batch  220/781 - Loss:  1.368, Seconds: 107.66\n",
      "Epoch   7/100 Batch  240/781 - Loss:  1.366, Seconds: 95.89\n",
      "('Average loss for this update:', 1.41)\n",
      "No Improvement.\n",
      "Epoch   7/100 Batch  260/781 - Loss:  1.342, Seconds: 85.57\n",
      "Epoch   7/100 Batch  280/781 - Loss:  1.179, Seconds: 87.21\n",
      "Epoch   7/100 Batch  300/781 - Loss:  1.277, Seconds: 80.91\n",
      "Epoch   7/100 Batch  320/781 - Loss:  1.280, Seconds: 108.29\n",
      "Epoch   7/100 Batch  340/781 - Loss:  1.504, Seconds: 85.31\n",
      "Epoch   7/100 Batch  360/781 - Loss:  1.503, Seconds: 101.43\n",
      "Epoch   7/100 Batch  380/781 - Loss:  1.386, Seconds: 93.67\n",
      "Epoch   7/100 Batch  400/781 - Loss:  1.350, Seconds: 109.73\n",
      "Epoch   7/100 Batch  420/781 - Loss:  1.218, Seconds: 108.21\n"
     ]
    },
    {
     "name": "stdout",
     "output_type": "stream",
     "text": [
      "Epoch   7/100 Batch  440/781 - Loss:  1.319, Seconds: 99.14\n",
      "Epoch   7/100 Batch  460/781 - Loss:  1.247, Seconds: 82.72\n",
      "Epoch   7/100 Batch  480/781 - Loss:  1.421, Seconds: 77.81\n",
      "Epoch   7/100 Batch  500/781 - Loss:  1.369, Seconds: 106.42\n",
      "('Average loss for this update:', 1.335)\n",
      "New Record!\n",
      "Epoch   7/100 Batch  520/781 - Loss:  1.298, Seconds: 89.75\n",
      "Epoch   7/100 Batch  540/781 - Loss:  1.305, Seconds: 90.77\n",
      "Epoch   7/100 Batch  560/781 - Loss:  1.201, Seconds: 97.98\n",
      "Epoch   7/100 Batch  580/781 - Loss:  1.315, Seconds: 84.98\n",
      "Epoch   7/100 Batch  600/781 - Loss:  1.192, Seconds: 93.24\n",
      "Epoch   7/100 Batch  620/781 - Loss:  1.500, Seconds: 85.33\n",
      "Epoch   7/100 Batch  640/781 - Loss:  1.471, Seconds: 87.90\n",
      "Epoch   7/100 Batch  660/781 - Loss:  1.352, Seconds: 108.98\n",
      "Epoch   7/100 Batch  680/781 - Loss:  1.276, Seconds: 93.40\n",
      "Epoch   7/100 Batch  700/781 - Loss:  1.205, Seconds: 91.10\n",
      "Epoch   7/100 Batch  720/781 - Loss:  1.180, Seconds: 106.94\n",
      "Epoch   7/100 Batch  740/781 - Loss:  1.412, Seconds: 92.43\n",
      "Epoch   7/100 Batch  760/781 - Loss:  1.591, Seconds: 103.65\n",
      "('Average loss for this update:', 1.345)\n",
      "No Improvement.\n",
      "Epoch   7/100 Batch  780/781 - Loss:  1.465, Seconds: 86.57\n",
      "Epoch   8/100 Batch   20/781 - Loss:  1.667, Seconds: 103.26\n",
      "Epoch   8/100 Batch   40/781 - Loss:  1.378, Seconds: 94.56\n",
      "Epoch   8/100 Batch   60/781 - Loss:  1.417, Seconds: 83.98\n",
      "Epoch   8/100 Batch   80/781 - Loss:  1.352, Seconds: 92.46\n",
      "Epoch   8/100 Batch  100/781 - Loss:  1.323, Seconds: 96.11\n",
      "Epoch   8/100 Batch  120/781 - Loss:  1.362, Seconds: 85.06\n",
      "Epoch   8/100 Batch  140/781 - Loss:  1.176, Seconds: 93.02\n",
      "Epoch   8/100 Batch  160/781 - Loss:  1.277, Seconds: 105.25\n",
      "Epoch   8/100 Batch  180/781 - Loss:  1.258, Seconds: 96.73\n",
      "Epoch   8/100 Batch  200/781 - Loss:  1.366, Seconds: 91.74\n",
      "Epoch   8/100 Batch  220/781 - Loss:  1.301, Seconds: 102.36\n",
      "Epoch   8/100 Batch  240/781 - Loss:  1.286, Seconds: 96.90\n",
      "('Average loss for this update:', 1.341)\n",
      "No Improvement.\n",
      "Epoch   8/100 Batch  260/781 - Loss:  1.274, Seconds: 85.66\n",
      "Epoch   8/100 Batch  280/781 - Loss:  1.097, Seconds: 83.60\n",
      "Epoch   8/100 Batch  300/781 - Loss:  1.176, Seconds: 77.89\n",
      "Epoch   8/100 Batch  320/781 - Loss:  1.203, Seconds: 104.85\n",
      "Epoch   8/100 Batch  340/781 - Loss:  1.390, Seconds: 89.42\n",
      "Epoch   8/100 Batch  360/781 - Loss:  1.401, Seconds: 99.33\n",
      "Epoch   8/100 Batch  380/781 - Loss:  1.308, Seconds: 95.16\n",
      "Epoch   8/100 Batch  400/781 - Loss:  1.258, Seconds: 104.07\n",
      "Epoch   8/100 Batch  420/781 - Loss:  1.142, Seconds: 106.72\n",
      "Epoch   8/100 Batch  440/781 - Loss:  1.247, Seconds: 101.60\n",
      "Epoch   8/100 Batch  460/781 - Loss:  1.183, Seconds: 79.26\n",
      "Epoch   8/100 Batch  480/781 - Loss:  1.330, Seconds: 79.58\n",
      "Epoch   8/100 Batch  500/781 - Loss:  1.292, Seconds: 106.73\n",
      "('Average loss for this update:', 1.251)\n",
      "New Record!\n",
      "Epoch   8/100 Batch  520/781 - Loss:  1.229, Seconds: 113.61\n",
      "Epoch   8/100 Batch  540/781 - Loss:  1.251, Seconds: 112.28\n",
      "Epoch   8/100 Batch  560/781 - Loss:  1.145, Seconds: 122.19\n",
      "Epoch   8/100 Batch  580/781 - Loss:  1.252, Seconds: 106.86\n",
      "Epoch   8/100 Batch  600/781 - Loss:  1.126, Seconds: 96.35\n",
      "Epoch   8/100 Batch  620/781 - Loss:  1.420, Seconds: 120.89\n",
      "Epoch   8/100 Batch  640/781 - Loss:  1.376, Seconds: 119.04\n",
      "Epoch   8/100 Batch  660/781 - Loss:  1.278, Seconds: 149.52\n",
      "Epoch   8/100 Batch  680/781 - Loss:  1.214, Seconds: 128.23\n",
      "Epoch   8/100 Batch  700/781 - Loss:  1.134, Seconds: 127.62\n",
      "Epoch   8/100 Batch  720/781 - Loss:  1.105, Seconds: 150.29\n",
      "Epoch   8/100 Batch  740/781 - Loss:  1.342, Seconds: 131.74\n",
      "Epoch   8/100 Batch  760/781 - Loss:  1.511, Seconds: 144.79\n",
      "('Average loss for this update:', 1.275)\n",
      "No Improvement.\n",
      "Epoch   8/100 Batch  780/781 - Loss:  1.403, Seconds: 119.60\n",
      "Epoch   9/100 Batch   20/781 - Loss:  1.603, Seconds: 142.54\n",
      "Epoch   9/100 Batch   40/781 - Loss:  1.319, Seconds: 135.87\n",
      "Epoch   9/100 Batch   60/781 - Loss:  1.380, Seconds: 116.92\n",
      "Epoch   9/100 Batch   80/781 - Loss:  1.297, Seconds: 130.96\n",
      "Epoch   9/100 Batch  100/781 - Loss:  1.266, Seconds: 137.86\n",
      "Epoch   9/100 Batch  120/781 - Loss:  1.289, Seconds: 119.31\n",
      "Epoch   9/100 Batch  140/781 - Loss:  1.126, Seconds: 128.68\n",
      "Epoch   9/100 Batch  160/781 - Loss:  1.206, Seconds: 102.25\n",
      "Epoch   9/100 Batch  180/781 - Loss:  1.189, Seconds: 97.86\n",
      "Epoch   9/100 Batch  200/781 - Loss:  1.286, Seconds: 91.09\n",
      "Epoch   9/100 Batch  220/781 - Loss:  1.223, Seconds: 108.98\n",
      "Epoch   9/100 Batch  240/781 - Loss:  1.216, Seconds: 96.66\n",
      "('Average loss for this update:', 1.277)\n",
      "No Improvement.\n",
      "Epoch   9/100 Batch  260/781 - Loss:  1.208, Seconds: 84.20\n",
      "Epoch   9/100 Batch  280/781 - Loss:  1.041, Seconds: 83.38\n",
      "Epoch   9/100 Batch  300/781 - Loss:  1.128, Seconds: 82.59\n",
      "Epoch   9/100 Batch  320/781 - Loss:  1.138, Seconds: 103.54\n",
      "Epoch   9/100 Batch  340/781 - Loss:  1.315, Seconds: 85.77\n",
      "Epoch   9/100 Batch  360/781 - Loss:  1.344, Seconds: 98.90\n",
      "Epoch   9/100 Batch  380/781 - Loss:  1.226, Seconds: 89.13\n",
      "Epoch   9/100 Batch  400/781 - Loss:  1.199, Seconds: 102.63\n",
      "Epoch   9/100 Batch  420/781 - Loss:  1.071, Seconds: 107.38\n",
      "Epoch   9/100 Batch  440/781 - Loss:  1.179, Seconds: 98.21\n",
      "Epoch   9/100 Batch  460/781 - Loss:  1.109, Seconds: 78.49\n",
      "Epoch   9/100 Batch  480/781 - Loss:  1.261, Seconds: 83.44\n",
      "Epoch   9/100 Batch  500/781 - Loss:  1.238, Seconds: 108.92\n",
      "('Average loss for this update:', 1.185)\n",
      "New Record!\n",
      "Epoch   9/100 Batch  520/781 - Loss:  1.152, Seconds: 93.97\n",
      "Epoch   9/100 Batch  540/781 - Loss:  1.200, Seconds: 92.06\n",
      "Epoch   9/100 Batch  560/781 - Loss:  1.066, Seconds: 100.30\n",
      "Epoch   9/100 Batch  580/781 - Loss:  1.181, Seconds: 85.59\n",
      "Epoch   9/100 Batch  600/781 - Loss:  1.059, Seconds: 98.04\n",
      "Epoch   9/100 Batch  620/781 - Loss:  1.342, Seconds: 90.60\n",
      "Epoch   9/100 Batch  640/781 - Loss:  1.298, Seconds: 88.26\n",
      "Epoch   9/100 Batch  660/781 - Loss:  1.208, Seconds: 108.04\n",
      "Epoch   9/100 Batch  680/781 - Loss:  1.157, Seconds: 94.30\n",
      "Epoch   9/100 Batch  700/781 - Loss:  1.084, Seconds: 97.08\n",
      "Epoch   9/100 Batch  720/781 - Loss:  1.062, Seconds: 111.47\n",
      "Epoch   9/100 Batch  740/781 - Loss:  1.275, Seconds: 93.04\n",
      "Epoch   9/100 Batch  760/781 - Loss:  1.444, Seconds: 103.91\n",
      "('Average loss for this update:', 1.208)\n",
      "No Improvement.\n",
      "Epoch   9/100 Batch  780/781 - Loss:  1.319, Seconds: 89.85\n",
      "Epoch  10/100 Batch   20/781 - Loss:  1.529, Seconds: 100.39\n",
      "Epoch  10/100 Batch   40/781 - Loss:  1.271, Seconds: 94.93\n",
      "Epoch  10/100 Batch   60/781 - Loss:  1.303, Seconds: 85.15\n",
      "Epoch  10/100 Batch   80/781 - Loss:  1.243, Seconds: 89.47\n",
      "Epoch  10/100 Batch  100/781 - Loss:  1.211, Seconds: 95.28\n",
      "Epoch  10/100 Batch  120/781 - Loss:  1.235, Seconds: 86.28\n",
      "Epoch  10/100 Batch  140/781 - Loss:  1.086, Seconds: 92.65\n",
      "Epoch  10/100 Batch  160/781 - Loss:  1.167, Seconds: 102.48\n",
      "Epoch  10/100 Batch  180/781 - Loss:  1.138, Seconds: 99.82\n",
      "Epoch  10/100 Batch  200/781 - Loss:  1.235, Seconds: 94.28\n",
      "Epoch  10/100 Batch  220/781 - Loss:  1.167, Seconds: 99.98\n",
      "Epoch  10/100 Batch  240/781 - Loss:  1.156, Seconds: 99.89\n",
      "('Average loss for this update:', 1.222)\n",
      "No Improvement.\n",
      "Epoch  10/100 Batch  260/781 - Loss:  1.150, Seconds: 89.28\n",
      "Epoch  10/100 Batch  280/781 - Loss:  1.003, Seconds: 85.66\n",
      "Epoch  10/100 Batch  300/781 - Loss:  1.079, Seconds: 78.07\n",
      "Epoch  10/100 Batch  320/781 - Loss:  1.081, Seconds: 104.86\n",
      "Epoch  10/100 Batch  340/781 - Loss:  1.251, Seconds: 89.42\n",
      "Epoch  10/100 Batch  360/781 - Loss:  1.277, Seconds: 104.30\n",
      "Epoch  10/100 Batch  380/781 - Loss:  1.169, Seconds: 95.21\n",
      "Epoch  10/100 Batch  400/781 - Loss:  1.138, Seconds: 126.58\n",
      "Epoch  10/100 Batch  420/781 - Loss:  1.031, Seconds: 127.40\n",
      "Epoch  10/100 Batch  440/781 - Loss:  1.130, Seconds: 122.68\n",
      "Epoch  10/100 Batch  460/781 - Loss:  1.067, Seconds: 100.16\n",
      "Epoch  10/100 Batch  480/781 - Loss:  1.211, Seconds: 95.53\n",
      "Epoch  10/100 Batch  500/781 - Loss:  1.195, Seconds: 128.99\n",
      "('Average loss for this update:', 1.134)\n",
      "New Record!\n",
      "Epoch  10/100 Batch  520/781 - Loss:  1.117, Seconds: 111.97\n",
      "Epoch  10/100 Batch  540/781 - Loss:  1.143, Seconds: 116.11\n",
      "Epoch  10/100 Batch  560/781 - Loss:  1.032, Seconds: 141.54\n",
      "Epoch  10/100 Batch  580/781 - Loss:  1.140, Seconds: 119.28\n",
      "Epoch  10/100 Batch  600/781 - Loss:  1.022, Seconds: 132.16\n",
      "Epoch  10/100 Batch  620/781 - Loss:  1.289, Seconds: 121.81\n"
     ]
    },
    {
     "name": "stdout",
     "output_type": "stream",
     "text": [
      "Epoch  10/100 Batch  640/781 - Loss:  1.236, Seconds: 123.93\n",
      "Epoch  10/100 Batch  660/781 - Loss:  1.155, Seconds: 150.53\n",
      "Epoch  10/100 Batch  680/781 - Loss:  1.088, Seconds: 130.34\n",
      "Epoch  10/100 Batch  700/781 - Loss:  1.027, Seconds: 131.96\n",
      "Epoch  10/100 Batch  720/781 - Loss:  1.021, Seconds: 129.23\n",
      "Epoch  10/100 Batch  740/781 - Loss:  1.233, Seconds: 112.48\n",
      "Epoch  10/100 Batch  760/781 - Loss:  1.394, Seconds: 124.46\n",
      "('Average loss for this update:', 1.159)\n",
      "No Improvement.\n",
      "Epoch  10/100 Batch  780/781 - Loss:  1.269, Seconds: 107.63\n",
      "Epoch  11/100 Batch   20/781 - Loss:  1.486, Seconds: 101.14\n",
      "Epoch  11/100 Batch   40/781 - Loss:  1.225, Seconds: 133.65\n",
      "Epoch  11/100 Batch   60/781 - Loss:  1.248, Seconds: 118.58\n",
      "Epoch  11/100 Batch   80/781 - Loss:  1.197, Seconds: 123.29\n",
      "Epoch  11/100 Batch  100/781 - Loss:  1.159, Seconds: 137.97\n",
      "Epoch  11/100 Batch  120/781 - Loss:  1.185, Seconds: 119.84\n",
      "Epoch  11/100 Batch  140/781 - Loss:  1.016, Seconds: 131.74\n",
      "Epoch  11/100 Batch  160/781 - Loss:  1.115, Seconds: 148.98\n",
      "Epoch  11/100 Batch  180/781 - Loss:  1.101, Seconds: 135.75\n",
      "Epoch  11/100 Batch  200/781 - Loss:  1.189, Seconds: 127.99\n",
      "Epoch  11/100 Batch  220/781 - Loss:  1.116, Seconds: 147.93\n",
      "Epoch  11/100 Batch  240/781 - Loss:  1.116, Seconds: 139.43\n",
      "('Average loss for this update:', 1.174)\n",
      "No Improvement.\n",
      "Epoch  11/100 Batch  260/781 - Loss:  1.112, Seconds: 118.09\n",
      "Epoch  11/100 Batch  280/781 - Loss:  0.957, Seconds: 120.85\n",
      "Epoch  11/100 Batch  300/781 - Loss:  1.021, Seconds: 109.91\n",
      "Epoch  11/100 Batch  320/781 - Loss:  1.023, Seconds: 147.70\n",
      "Epoch  11/100 Batch  340/781 - Loss:  1.193, Seconds: 120.63\n",
      "Epoch  11/100 Batch  360/781 - Loss:  1.226, Seconds: 133.44\n",
      "Epoch  11/100 Batch  380/781 - Loss:  1.107, Seconds: 90.96\n",
      "Epoch  11/100 Batch  400/781 - Loss:  1.083, Seconds: 149.32\n",
      "Epoch  11/100 Batch  420/781 - Loss:  0.994, Seconds: 105.20\n",
      "Epoch  11/100 Batch  440/781 - Loss:  1.082, Seconds: 98.72\n",
      "Epoch  11/100 Batch  460/781 - Loss:  1.022, Seconds: 79.01\n",
      "Epoch  11/100 Batch  480/781 - Loss:  1.162, Seconds: 82.18\n",
      "Epoch  11/100 Batch  500/781 - Loss:  1.150, Seconds: 108.62\n",
      "('Average loss for this update:', 1.084)\n",
      "New Record!\n",
      "Epoch  11/100 Batch  520/781 - Loss:  1.069, Seconds: 93.84\n",
      "Epoch  11/100 Batch  540/781 - Loss:  1.103, Seconds: 90.52\n",
      "Epoch  11/100 Batch  560/781 - Loss:  0.998, Seconds: 96.75\n",
      "Epoch  11/100 Batch  580/781 - Loss:  1.098, Seconds: 88.68\n",
      "Epoch  11/100 Batch  600/781 - Loss:  0.983, Seconds: 91.90\n",
      "Epoch  11/100 Batch  620/781 - Loss:  1.236, Seconds: 86.36\n",
      "Epoch  11/100 Batch  640/781 - Loss:  1.177, Seconds: 83.41\n",
      "Epoch  11/100 Batch  660/781 - Loss:  1.105, Seconds: 104.49\n",
      "Epoch  11/100 Batch  680/781 - Loss:  1.071, Seconds: 93.88\n",
      "Epoch  11/100 Batch  700/781 - Loss:  0.977, Seconds: 93.99\n",
      "Epoch  11/100 Batch  720/781 - Loss:  0.980, Seconds: 107.55\n",
      "Epoch  11/100 Batch  740/781 - Loss:  1.168, Seconds: 97.78\n",
      "Epoch  11/100 Batch  760/781 - Loss:  1.342, Seconds: 98.57\n",
      "('Average loss for this update:', 1.113)\n",
      "No Improvement.\n",
      "Epoch  11/100 Batch  780/781 - Loss:  1.231, Seconds: 88.23\n",
      "Epoch  12/100 Batch   20/781 - Loss:  1.428, Seconds: 101.08\n",
      "Epoch  12/100 Batch   40/781 - Loss:  1.205, Seconds: 95.02\n",
      "Epoch  12/100 Batch   60/781 - Loss:  1.198, Seconds: 81.14\n",
      "Epoch  12/100 Batch   80/781 - Loss:  1.150, Seconds: 94.73\n",
      "Epoch  12/100 Batch  100/781 - Loss:  1.106, Seconds: 97.52\n",
      "Epoch  12/100 Batch  120/781 - Loss:  1.145, Seconds: 82.87\n",
      "Epoch  12/100 Batch  140/781 - Loss:  0.970, Seconds: 89.13\n",
      "Epoch  12/100 Batch  160/781 - Loss:  1.072, Seconds: 101.14\n",
      "Epoch  12/100 Batch  180/781 - Loss:  1.054, Seconds: 95.45\n",
      "Epoch  12/100 Batch  200/781 - Loss:  1.140, Seconds: 93.83\n",
      "Epoch  12/100 Batch  220/781 - Loss:  1.077, Seconds: 101.70\n",
      "Epoch  12/100 Batch  240/781 - Loss:  1.078, Seconds: 101.24\n",
      "('Average loss for this update:', 1.13)\n",
      "No Improvement.\n",
      "Epoch  12/100 Batch  260/781 - Loss:  1.065, Seconds: 86.71\n",
      "Epoch  12/100 Batch  280/781 - Loss:  0.923, Seconds: 83.46\n",
      "Epoch  12/100 Batch  300/781 - Loss:  0.986, Seconds: 76.13\n",
      "Epoch  12/100 Batch  320/781 - Loss:  0.997, Seconds: 103.89\n",
      "Epoch  12/100 Batch  340/781 - Loss:  1.165, Seconds: 85.32\n",
      "Epoch  12/100 Batch  360/781 - Loss:  1.192, Seconds: 96.03\n",
      "Epoch  12/100 Batch  380/781 - Loss:  1.076, Seconds: 91.62\n",
      "Epoch  12/100 Batch  400/781 - Loss:  1.053, Seconds: 105.45\n",
      "Epoch  12/100 Batch  420/781 - Loss:  0.960, Seconds: 104.22\n",
      "Epoch  12/100 Batch  440/781 - Loss:  1.048, Seconds: 95.83\n",
      "Epoch  12/100 Batch  460/781 - Loss:  0.979, Seconds: 80.93\n",
      "Epoch  12/100 Batch  480/781 - Loss:  1.122, Seconds: 79.05\n",
      "Epoch  12/100 Batch  500/781 - Loss:  1.101, Seconds: 102.80\n",
      "('Average loss for this update:', 1.049)\n",
      "New Record!\n",
      "Epoch  12/100 Batch  520/781 - Loss:  1.036, Seconds: 95.23\n",
      "Epoch  12/100 Batch  540/781 - Loss:  1.065, Seconds: 92.88\n",
      "Epoch  12/100 Batch  560/781 - Loss:  0.959, Seconds: 102.95\n",
      "Epoch  12/100 Batch  580/781 - Loss:  1.063, Seconds: 86.76\n",
      "Epoch  12/100 Batch  600/781 - Loss:  0.961, Seconds: 95.26\n",
      "Epoch  12/100 Batch  620/781 - Loss:  1.183, Seconds: 88.14\n",
      "Epoch  12/100 Batch  640/781 - Loss:  1.121, Seconds: 86.00\n",
      "Epoch  12/100 Batch  660/781 - Loss:  1.060, Seconds: 106.60\n",
      "Epoch  12/100 Batch  680/781 - Loss:  1.012, Seconds: 94.21\n",
      "Epoch  12/100 Batch  700/781 - Loss:  0.939, Seconds: 91.24\n",
      "Epoch  12/100 Batch  720/781 - Loss:  0.950, Seconds: 106.40\n",
      "Epoch  12/100 Batch  740/781 - Loss:  1.138, Seconds: 93.72\n",
      "Epoch  12/100 Batch  760/781 - Loss:  1.298, Seconds: 97.63\n",
      "('Average loss for this update:', 1.072)\n",
      "No Improvement.\n",
      "Epoch  12/100 Batch  780/781 - Loss:  1.178, Seconds: 87.14\n",
      "Epoch  13/100 Batch   20/781 - Loss:  1.402, Seconds: 104.31\n",
      "Epoch  13/100 Batch   40/781 - Loss:  1.170, Seconds: 96.27\n",
      "Epoch  13/100 Batch   60/781 - Loss:  1.153, Seconds: 88.07\n",
      "Epoch  13/100 Batch   80/781 - Loss:  1.112, Seconds: 88.42\n",
      "Epoch  13/100 Batch  100/781 - Loss:  1.082, Seconds: 99.70\n",
      "Epoch  13/100 Batch  120/781 - Loss:  1.097, Seconds: 83.45\n",
      "Epoch  13/100 Batch  140/781 - Loss:  0.940, Seconds: 90.67\n",
      "Epoch  13/100 Batch  160/781 - Loss:  1.034, Seconds: 103.10\n",
      "Epoch  13/100 Batch  180/781 - Loss:  1.019, Seconds: 96.91\n",
      "Epoch  13/100 Batch  200/781 - Loss:  1.096, Seconds: 92.70\n",
      "Epoch  13/100 Batch  220/781 - Loss:  1.044, Seconds: 105.32\n",
      "Epoch  13/100 Batch  240/781 - Loss:  1.128, Seconds: 99.77\n",
      "('Average loss for this update:', 1.109)\n",
      "No Improvement.\n",
      "Epoch  13/100 Batch  260/781 - Loss:  1.150, Seconds: 87.53\n",
      "Epoch  13/100 Batch  280/781 - Loss:  0.963, Seconds: 87.49\n",
      "Epoch  13/100 Batch  300/781 - Loss:  1.014, Seconds: 78.36\n",
      "Epoch  13/100 Batch  320/781 - Loss:  1.024, Seconds: 106.74\n",
      "Epoch  13/100 Batch  340/781 - Loss:  1.196, Seconds: 89.96\n",
      "Epoch  13/100 Batch  360/781 - Loss:  1.200, Seconds: 98.85\n",
      "Epoch  13/100 Batch  380/781 - Loss:  1.087, Seconds: 93.04\n",
      "Epoch  13/100 Batch  400/781 - Loss:  1.057, Seconds: 102.31\n",
      "Epoch  13/100 Batch  420/781 - Loss:  0.968, Seconds: 105.01\n",
      "Epoch  13/100 Batch  440/781 - Loss:  1.045, Seconds: 100.79\n",
      "Epoch  13/100 Batch  460/781 - Loss:  0.981, Seconds: 80.07\n",
      "Epoch  13/100 Batch  480/781 - Loss:  1.105, Seconds: 78.71\n",
      "Epoch  13/100 Batch  500/781 - Loss:  1.096, Seconds: 105.66\n",
      "('Average loss for this update:', 1.058)\n",
      "No Improvement.\n",
      "Stopping Training.\n"
     ]
    }
   ],
   "source": [
    "# Train the Model\n",
    "learning_rate_decay = 0.95\n",
    "min_learning_rate = 0.0005\n",
    "display_step = 20 # Check training loss after every 20 batches\n",
    "stop_early = 0 \n",
    "stop = 3 # If the update loss does not decrease in 3 consecutive update checks, stop training\n",
    "per_epoch = 3 # Make 3 update checks per epoch\n",
    "update_check = (len(sorted_texts_short)//batch_size//per_epoch)-1\n",
    "\n",
    "update_loss = 0 \n",
    "batch_loss = 0\n",
    "summary_update_loss = [] # Record the update losses for saving improvements in the model\n",
    "\n",
    "checkpoint = \"./best_model.ckpt\" \n",
    "with tf.Session(graph=train_graph) as sess:\n",
    "    sess.run(tf.global_variables_initializer())\n",
    "    \n",
    "    # If we want to continue training a previous session\n",
    "    #loader = tf.train.import_meta_graph(\"./\" + checkpoint + '.meta')\n",
    "    #loader.restore(sess, checkpoint)\n",
    "    \n",
    "    for epoch_i in range(1, epochs+1):\n",
    "        update_loss = 0\n",
    "        batch_loss = 0\n",
    "        for batch_i, (summaries_batch, texts_batch, summaries_lengths, texts_lengths) in enumerate(\n",
    "                get_batches(sorted_summaries_short, sorted_texts_short, batch_size)):\n",
    "            start_time = time.time()\n",
    "            _, loss = sess.run(\n",
    "                [train_op, cost],\n",
    "                {input_data: texts_batch,\n",
    "                 targets: summaries_batch,\n",
    "                 lr: learning_rate,\n",
    "                 summary_length: summaries_lengths,\n",
    "                 text_length: texts_lengths,\n",
    "                 keep_prob: keep_probability})\n",
    "\n",
    "            batch_loss += loss\n",
    "            update_loss += loss\n",
    "            end_time = time.time()\n",
    "            batch_time = end_time - start_time\n",
    "\n",
    "            if batch_i % display_step == 0 and batch_i > 0:\n",
    "                print('Epoch {:>3}/{} Batch {:>4}/{} - Loss: {:>6.3f}, Seconds: {:>4.2f}'\n",
    "                      .format(epoch_i,\n",
    "                              epochs, \n",
    "                              batch_i, \n",
    "                              len(sorted_texts_short) // batch_size, \n",
    "                              batch_loss / display_step, \n",
    "                              batch_time*display_step))\n",
    "                batch_loss = 0\n",
    "\n",
    "            if batch_i % update_check == 0 and batch_i > 0:\n",
    "                print(\"Average loss for this update:\", round(update_loss/update_check,3))\n",
    "                summary_update_loss.append(update_loss)\n",
    "                \n",
    "                # If the update loss is at a new minimum, save the model\n",
    "                if update_loss <= min(summary_update_loss):\n",
    "                    print('New Record!') \n",
    "                    stop_early = 0\n",
    "                    saver = tf.train.Saver() \n",
    "                    saver.save(sess, checkpoint)\n",
    "\n",
    "                else:\n",
    "                    print(\"No Improvement.\")\n",
    "                    stop_early += 1\n",
    "                    if stop_early == stop:\n",
    "                        break\n",
    "                update_loss = 0\n",
    "            \n",
    "                    \n",
    "        # Reduce learning rate, but not below its minimum value\n",
    "        learning_rate *= learning_rate_decay\n",
    "        if learning_rate < min_learning_rate:\n",
    "            learning_rate = min_learning_rate\n",
    "        \n",
    "        if stop_early == stop:\n",
    "            print(\"Stopping Training.\")\n",
    "            break"
   ]
  },
  {
   "cell_type": "markdown",
   "metadata": {},
   "source": [
    "## 5. Making Our Own Summaries"
   ]
  },
  {
   "cell_type": "markdown",
   "metadata": {},
   "source": [
    "To see the quality of the summaries that this model can generate, you can either create your own review, or use a review from the dataset. You can set the length of the summary to a fixed value, or use a random value like I have here."
   ]
  },
  {
   "cell_type": "code",
   "execution_count": 23,
   "metadata": {},
   "outputs": [],
   "source": [
    "def text_to_seq(text):\n",
    "    '''Prepare the text for the model'''\n",
    "    \n",
    "    text = clean_text(text)\n",
    "    return [vocab_to_int.get(word, vocab_to_int['<UNK>']) for word in text.split()]"
   ]
  },
  {
   "cell_type": "markdown",
   "metadata": {},
   "source": [
    "\n",
    "- **input_sentences**: a list of reviews strings we are going to summarize\n",
    "- **generagte_summary_length**: a int or list, if a list must be same length as input_sentences\n"
   ]
  },
  {
   "cell_type": "code",
   "execution_count": 26,
   "metadata": {},
   "outputs": [
    {
     "name": "stdout",
     "output_type": "stream",
     "text": [
      "INFO:tensorflow:Restoring parameters from ./best_model.ckpt\n",
      "- Review:\n",
      " The coffee tasted great and was at such a good price! I highly recommend this to everyone!\n",
      "- Summary:\n",
      " caffeinated means means\n",
      "\n",
      "\n",
      "- Review:\n",
      " love individual oatmeal cups found years ago sam quit selling sound big lots quit selling found target expensive buy individually trilled get entire case time go anywhere need water microwave spoon know quaker flavor packets\n",
      "- Summary:\n",
      " stock means\n",
      "\n",
      "\n"
     ]
    }
   ],
   "source": [
    "input_sentences=[\"The coffee tasted great and was at such a good price! I highly recommend this to everyone!\",\n",
    "               \"love individual oatmeal cups found years ago sam quit selling sound big lots quit selling found target expensive buy individually trilled get entire case time go anywhere need water microwave spoon know quaker flavor packets\"]\n",
    "generagte_summary_length =  [3,2]\n",
    "\n",
    "texts = [text_to_seq(input_sentence) for input_sentence in input_sentences]\n",
    "checkpoint = \"./best_model.ckpt\"\n",
    "if type(generagte_summary_length) is list:\n",
    "    if len(input_sentences)!=len(generagte_summary_length):\n",
    "        raise Exception(\"[Error] makeSummaries parameter generagte_summary_length must be same length as input_sentences or an integer\")\n",
    "    generagte_summary_length_list = generagte_summary_length\n",
    "else:\n",
    "    generagte_summary_length_list = [generagte_summary_length] * len(texts)\n",
    "loaded_graph = tf.Graph()\n",
    "with tf.Session(graph=loaded_graph) as sess:\n",
    "    # Load saved model\n",
    "    loader = tf.train.import_meta_graph(checkpoint + '.meta')\n",
    "    loader.restore(sess, checkpoint)\n",
    "    input_data = loaded_graph.get_tensor_by_name('input:0')\n",
    "    logits = loaded_graph.get_tensor_by_name('predictions:0')\n",
    "    text_length = loaded_graph.get_tensor_by_name('text_length:0')\n",
    "    summary_length = loaded_graph.get_tensor_by_name('summary_length:0')\n",
    "    keep_prob = loaded_graph.get_tensor_by_name('keep_prob:0')\n",
    "    #Multiply by batch_size to match the model's input parameters\n",
    "    for i, text in enumerate(texts):\n",
    "        generagte_summary_length = generagte_summary_length_list[i]\n",
    "        answer_logits = sess.run(logits, {input_data: [text]*batch_size, \n",
    "                                          summary_length: [generagte_summary_length], #summary_length: [np.random.randint(5,8)], \n",
    "                                          text_length: [len(text)]*batch_size,\n",
    "                                          keep_prob: 1.0})[0] \n",
    "        # Remove the padding from the summaries\n",
    "        pad = vocab_to_int[\"<PAD>\"] \n",
    "        print('- Review:\\n\\r {}'.format(input_sentences[i]))\n",
    "        print('- Summary:\\n\\r {}\\n\\r\\n\\r'.format(\" \".join([int_to_vocab[i] for i in answer_logits if i != pad])))"
   ]
  },
  {
   "cell_type": "markdown",
   "metadata": {},
   "source": [
    "## Summary"
   ]
  },
  {
   "cell_type": "markdown",
   "metadata": {},
   "source": [
    "I hope that you found this project to be rather interesting and informative. One of my main recommendations for working with this dataset and model is either use a GPU, a subset of the dataset, or plenty of time to train your model. As you might be able to expect, the model will not be able to make good predictions just by seeing many reviews, it needs so see the reviews many times to be able to understand the relationship between words and between descriptions & summaries. \n",
    "\n",
    "In short, I'm pleased with how well this model performs. After creating numerous reviews and checking those from the dataset, I can happily say that most of the generated summaries are appropriate, some of them are great, and some of them make mistakes. I'll try to improve this model and if it gets better, I'll update my GitHub.\n",
    "\n",
    "Thanks for reading!"
   ]
  },
  {
   "cell_type": "code",
   "execution_count": null,
   "metadata": {
    "collapsed": true
   },
   "outputs": [],
   "source": []
  }
 ],
 "metadata": {
  "anaconda-cloud": {},
  "kernelspec": {
   "display_name": "Python 2",
   "language": "python",
   "name": "python2"
  },
  "language_info": {
   "codemirror_mode": {
    "name": "ipython",
    "version": 2
   },
   "file_extension": ".py",
   "mimetype": "text/x-python",
   "name": "python",
   "nbconvert_exporter": "python",
   "pygments_lexer": "ipython2",
   "version": "2.7.14"
  }
 },
 "nbformat": 4,
 "nbformat_minor": 1
}
